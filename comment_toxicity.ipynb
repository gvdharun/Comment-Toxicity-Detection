{
 "cells": [
  {
   "cell_type": "markdown",
   "id": "5feebddd",
   "metadata": {},
   "source": [
    "# **Project Name:** Deep Learning for Comment Toxicity Detection with Streamlit"
   ]
  },
  {
   "cell_type": "markdown",
   "id": "7363fee4",
   "metadata": {},
   "source": [
    "##### **Project Type**    - Deep learning & NPL Classification\n",
    "##### **Contribution**    - Individual"
   ]
  },
  {
   "cell_type": "markdown",
   "id": "78973c2c",
   "metadata": {},
   "source": [
    "### **Project Summary -**\n",
    "This project aims to develop a deep learning-based toxicity detection system for online comments using Python and Streamlit. The model will automatically classify comments as toxic or non-toxic, helping platforms efficiently moderate user-generated content in real-time. The deliverables include a user-friendly web app, model source code, deployment instructions, and supporting documentation, all designed to facilitate safer online communities and streamline content moderation workflows."
   ]
  },
  {
   "cell_type": "markdown",
   "id": "ab8df905",
   "metadata": {},
   "source": [
    "### **GitHub Link -**\n",
    "https://github.com/gvdharun/Flipkart-Customer-Service-Satisfaction.git"
   ]
  },
  {
   "cell_type": "markdown",
   "id": "435ce96d",
   "metadata": {},
   "source": [
    "### **Problem Statement -**\n",
    "The objective of this project is to develop a deep learning-based comment toxicity model using Python. This model will analyze text input from online comments and predict the likelihood of each comment being toxic. By accurately identifying toxic comments, the model will assist platform moderators and administrators in taking appropriate actions to mitigate the negative impact of toxic behavior, such as filtering, warning users, or initiating further review processes."
   ]
  },
  {
   "cell_type": "markdown",
   "id": "631cf410",
   "metadata": {},
   "source": [
    "## ***Let's Begin !***"
   ]
  },
  {
   "cell_type": "markdown",
   "id": "3f75c5d5",
   "metadata": {},
   "source": [
    "### ***1. Know Your Data***"
   ]
  },
  {
   "cell_type": "markdown",
   "id": "3fd98c4b",
   "metadata": {},
   "source": [
    "Import Libraries"
   ]
  },
  {
   "cell_type": "code",
   "execution_count": 38,
   "id": "b857f4b0",
   "metadata": {},
   "outputs": [],
   "source": [
    "# Importing Libraries\n",
    "# Libraries for Data Manipulation\n",
    "import pandas as pd\n",
    "import numpy as np\n",
    "\n",
    "# Libraries for Data Visualization\n",
    "import matplotlib.pyplot as plt\n",
    "import seaborn as sns\n",
    "\n",
    "# Libraries for Text Preprocessing\n",
    "import re\n",
    "import string\n",
    "from nltk.corpus import stopwords\n",
    "from nltk.tokenize import word_tokenize\n",
    "from sklearn.feature_extraction.text import TfidfVectorizer\n",
    "\n",
    "# Libraries for Data Preprocessing and Model Building\n",
    "from tensorflow.keras.models import Sequential\n",
    "from tensorflow.keras.layers import Embedding, LSTM, Dense,Input, Dropout, Bidirectional, Conv1D, GlobalMaxPooling1D\n",
    "from transformers import BertTokenizer, TFBertModel\n",
    "from tensorflow.keras.optimizers import Adam\n",
    "from tensorflow.keras.callbacks import EarlyStopping, ModelCheckpoint\n",
    "from tensorflow.keras.models import load_model, Model\n",
    "from sklearn.model_selection import train_test_split\n",
    "\n",
    "# Libraries for Model Evaluation\n",
    "from sklearn.metrics import accuracy_score, roc_auc_score, classification_report, confusion_matrix"
   ]
  },
  {
   "cell_type": "markdown",
   "id": "0b2e8f03",
   "metadata": {},
   "source": [
    "Loading Dataset"
   ]
  },
  {
   "cell_type": "code",
   "execution_count": 2,
   "id": "940ff10b",
   "metadata": {},
   "outputs": [],
   "source": [
    "# Loading the dataset\n",
    "train = pd.read_csv('data/train.csv')\n",
    "test = pd.read_csv('data/test.csv')"
   ]
  },
  {
   "cell_type": "markdown",
   "id": "4e0eab3b",
   "metadata": {},
   "source": [
    "Dataset View"
   ]
  },
  {
   "cell_type": "code",
   "execution_count": 3,
   "id": "2d7dbffe",
   "metadata": {},
   "outputs": [
    {
     "data": {
      "text/html": [
       "<div>\n",
       "<style scoped>\n",
       "    .dataframe tbody tr th:only-of-type {\n",
       "        vertical-align: middle;\n",
       "    }\n",
       "\n",
       "    .dataframe tbody tr th {\n",
       "        vertical-align: top;\n",
       "    }\n",
       "\n",
       "    .dataframe thead th {\n",
       "        text-align: right;\n",
       "    }\n",
       "</style>\n",
       "<table border=\"1\" class=\"dataframe\">\n",
       "  <thead>\n",
       "    <tr style=\"text-align: right;\">\n",
       "      <th></th>\n",
       "      <th>id</th>\n",
       "      <th>comment_text</th>\n",
       "      <th>toxic</th>\n",
       "      <th>severe_toxic</th>\n",
       "      <th>obscene</th>\n",
       "      <th>threat</th>\n",
       "      <th>insult</th>\n",
       "      <th>identity_hate</th>\n",
       "    </tr>\n",
       "  </thead>\n",
       "  <tbody>\n",
       "    <tr>\n",
       "      <th>0</th>\n",
       "      <td>0000997932d777bf</td>\n",
       "      <td>Explanation\\nWhy the edits made under my usern...</td>\n",
       "      <td>0</td>\n",
       "      <td>0</td>\n",
       "      <td>0</td>\n",
       "      <td>0</td>\n",
       "      <td>0</td>\n",
       "      <td>0</td>\n",
       "    </tr>\n",
       "    <tr>\n",
       "      <th>1</th>\n",
       "      <td>000103f0d9cfb60f</td>\n",
       "      <td>D'aww! He matches this background colour I'm s...</td>\n",
       "      <td>0</td>\n",
       "      <td>0</td>\n",
       "      <td>0</td>\n",
       "      <td>0</td>\n",
       "      <td>0</td>\n",
       "      <td>0</td>\n",
       "    </tr>\n",
       "    <tr>\n",
       "      <th>2</th>\n",
       "      <td>000113f07ec002fd</td>\n",
       "      <td>Hey man, I'm really not trying to edit war. It...</td>\n",
       "      <td>0</td>\n",
       "      <td>0</td>\n",
       "      <td>0</td>\n",
       "      <td>0</td>\n",
       "      <td>0</td>\n",
       "      <td>0</td>\n",
       "    </tr>\n",
       "    <tr>\n",
       "      <th>3</th>\n",
       "      <td>0001b41b1c6bb37e</td>\n",
       "      <td>\"\\nMore\\nI can't make any real suggestions on ...</td>\n",
       "      <td>0</td>\n",
       "      <td>0</td>\n",
       "      <td>0</td>\n",
       "      <td>0</td>\n",
       "      <td>0</td>\n",
       "      <td>0</td>\n",
       "    </tr>\n",
       "    <tr>\n",
       "      <th>4</th>\n",
       "      <td>0001d958c54c6e35</td>\n",
       "      <td>You, sir, are my hero. Any chance you remember...</td>\n",
       "      <td>0</td>\n",
       "      <td>0</td>\n",
       "      <td>0</td>\n",
       "      <td>0</td>\n",
       "      <td>0</td>\n",
       "      <td>0</td>\n",
       "    </tr>\n",
       "    <tr>\n",
       "      <th>...</th>\n",
       "      <td>...</td>\n",
       "      <td>...</td>\n",
       "      <td>...</td>\n",
       "      <td>...</td>\n",
       "      <td>...</td>\n",
       "      <td>...</td>\n",
       "      <td>...</td>\n",
       "      <td>...</td>\n",
       "    </tr>\n",
       "    <tr>\n",
       "      <th>159566</th>\n",
       "      <td>ffe987279560d7ff</td>\n",
       "      <td>\":::::And for the second time of asking, when ...</td>\n",
       "      <td>0</td>\n",
       "      <td>0</td>\n",
       "      <td>0</td>\n",
       "      <td>0</td>\n",
       "      <td>0</td>\n",
       "      <td>0</td>\n",
       "    </tr>\n",
       "    <tr>\n",
       "      <th>159567</th>\n",
       "      <td>ffea4adeee384e90</td>\n",
       "      <td>You should be ashamed of yourself \\n\\nThat is ...</td>\n",
       "      <td>0</td>\n",
       "      <td>0</td>\n",
       "      <td>0</td>\n",
       "      <td>0</td>\n",
       "      <td>0</td>\n",
       "      <td>0</td>\n",
       "    </tr>\n",
       "    <tr>\n",
       "      <th>159568</th>\n",
       "      <td>ffee36eab5c267c9</td>\n",
       "      <td>Spitzer \\n\\nUmm, theres no actual article for ...</td>\n",
       "      <td>0</td>\n",
       "      <td>0</td>\n",
       "      <td>0</td>\n",
       "      <td>0</td>\n",
       "      <td>0</td>\n",
       "      <td>0</td>\n",
       "    </tr>\n",
       "    <tr>\n",
       "      <th>159569</th>\n",
       "      <td>fff125370e4aaaf3</td>\n",
       "      <td>And it looks like it was actually you who put ...</td>\n",
       "      <td>0</td>\n",
       "      <td>0</td>\n",
       "      <td>0</td>\n",
       "      <td>0</td>\n",
       "      <td>0</td>\n",
       "      <td>0</td>\n",
       "    </tr>\n",
       "    <tr>\n",
       "      <th>159570</th>\n",
       "      <td>fff46fc426af1f9a</td>\n",
       "      <td>\"\\nAnd ... I really don't think you understand...</td>\n",
       "      <td>0</td>\n",
       "      <td>0</td>\n",
       "      <td>0</td>\n",
       "      <td>0</td>\n",
       "      <td>0</td>\n",
       "      <td>0</td>\n",
       "    </tr>\n",
       "  </tbody>\n",
       "</table>\n",
       "<p>159571 rows × 8 columns</p>\n",
       "</div>"
      ],
      "text/plain": [
       "                      id                                       comment_text  \\\n",
       "0       0000997932d777bf  Explanation\\nWhy the edits made under my usern...   \n",
       "1       000103f0d9cfb60f  D'aww! He matches this background colour I'm s...   \n",
       "2       000113f07ec002fd  Hey man, I'm really not trying to edit war. It...   \n",
       "3       0001b41b1c6bb37e  \"\\nMore\\nI can't make any real suggestions on ...   \n",
       "4       0001d958c54c6e35  You, sir, are my hero. Any chance you remember...   \n",
       "...                  ...                                                ...   \n",
       "159566  ffe987279560d7ff  \":::::And for the second time of asking, when ...   \n",
       "159567  ffea4adeee384e90  You should be ashamed of yourself \\n\\nThat is ...   \n",
       "159568  ffee36eab5c267c9  Spitzer \\n\\nUmm, theres no actual article for ...   \n",
       "159569  fff125370e4aaaf3  And it looks like it was actually you who put ...   \n",
       "159570  fff46fc426af1f9a  \"\\nAnd ... I really don't think you understand...   \n",
       "\n",
       "        toxic  severe_toxic  obscene  threat  insult  identity_hate  \n",
       "0           0             0        0       0       0              0  \n",
       "1           0             0        0       0       0              0  \n",
       "2           0             0        0       0       0              0  \n",
       "3           0             0        0       0       0              0  \n",
       "4           0             0        0       0       0              0  \n",
       "...       ...           ...      ...     ...     ...            ...  \n",
       "159566      0             0        0       0       0              0  \n",
       "159567      0             0        0       0       0              0  \n",
       "159568      0             0        0       0       0              0  \n",
       "159569      0             0        0       0       0              0  \n",
       "159570      0             0        0       0       0              0  \n",
       "\n",
       "[159571 rows x 8 columns]"
      ]
     },
     "execution_count": 3,
     "metadata": {},
     "output_type": "execute_result"
    }
   ],
   "source": [
    "# Dataset View for Train data\n",
    "train"
   ]
  },
  {
   "cell_type": "code",
   "execution_count": 4,
   "id": "8f50c9e1",
   "metadata": {},
   "outputs": [
    {
     "data": {
      "text/html": [
       "<div>\n",
       "<style scoped>\n",
       "    .dataframe tbody tr th:only-of-type {\n",
       "        vertical-align: middle;\n",
       "    }\n",
       "\n",
       "    .dataframe tbody tr th {\n",
       "        vertical-align: top;\n",
       "    }\n",
       "\n",
       "    .dataframe thead th {\n",
       "        text-align: right;\n",
       "    }\n",
       "</style>\n",
       "<table border=\"1\" class=\"dataframe\">\n",
       "  <thead>\n",
       "    <tr style=\"text-align: right;\">\n",
       "      <th></th>\n",
       "      <th>id</th>\n",
       "      <th>comment_text</th>\n",
       "    </tr>\n",
       "  </thead>\n",
       "  <tbody>\n",
       "    <tr>\n",
       "      <th>0</th>\n",
       "      <td>00001cee341fdb12</td>\n",
       "      <td>Yo bitch Ja Rule is more succesful then you'll...</td>\n",
       "    </tr>\n",
       "    <tr>\n",
       "      <th>1</th>\n",
       "      <td>0000247867823ef7</td>\n",
       "      <td>== From RfC == \\n\\n The title is fine as it is...</td>\n",
       "    </tr>\n",
       "    <tr>\n",
       "      <th>2</th>\n",
       "      <td>00013b17ad220c46</td>\n",
       "      <td>\" \\n\\n == Sources == \\n\\n * Zawe Ashton on Lap...</td>\n",
       "    </tr>\n",
       "    <tr>\n",
       "      <th>3</th>\n",
       "      <td>00017563c3f7919a</td>\n",
       "      <td>:If you have a look back at the source, the in...</td>\n",
       "    </tr>\n",
       "    <tr>\n",
       "      <th>4</th>\n",
       "      <td>00017695ad8997eb</td>\n",
       "      <td>I don't anonymously edit articles at all.</td>\n",
       "    </tr>\n",
       "    <tr>\n",
       "      <th>...</th>\n",
       "      <td>...</td>\n",
       "      <td>...</td>\n",
       "    </tr>\n",
       "    <tr>\n",
       "      <th>153159</th>\n",
       "      <td>fffcd0960ee309b5</td>\n",
       "      <td>. \\n i totally agree, this stuff is nothing bu...</td>\n",
       "    </tr>\n",
       "    <tr>\n",
       "      <th>153160</th>\n",
       "      <td>fffd7a9a6eb32c16</td>\n",
       "      <td>== Throw from out field to home plate. == \\n\\n...</td>\n",
       "    </tr>\n",
       "    <tr>\n",
       "      <th>153161</th>\n",
       "      <td>fffda9e8d6fafa9e</td>\n",
       "      <td>\" \\n\\n == Okinotorishima categories == \\n\\n I ...</td>\n",
       "    </tr>\n",
       "    <tr>\n",
       "      <th>153162</th>\n",
       "      <td>fffe8f1340a79fc2</td>\n",
       "      <td>\" \\n\\n == \"\"One of the founding nations of the...</td>\n",
       "    </tr>\n",
       "    <tr>\n",
       "      <th>153163</th>\n",
       "      <td>ffffce3fb183ee80</td>\n",
       "      <td>\" \\n :::Stop already. Your bullshit is not wel...</td>\n",
       "    </tr>\n",
       "  </tbody>\n",
       "</table>\n",
       "<p>153164 rows × 2 columns</p>\n",
       "</div>"
      ],
      "text/plain": [
       "                      id                                       comment_text\n",
       "0       00001cee341fdb12  Yo bitch Ja Rule is more succesful then you'll...\n",
       "1       0000247867823ef7  == From RfC == \\n\\n The title is fine as it is...\n",
       "2       00013b17ad220c46  \" \\n\\n == Sources == \\n\\n * Zawe Ashton on Lap...\n",
       "3       00017563c3f7919a  :If you have a look back at the source, the in...\n",
       "4       00017695ad8997eb          I don't anonymously edit articles at all.\n",
       "...                  ...                                                ...\n",
       "153159  fffcd0960ee309b5  . \\n i totally agree, this stuff is nothing bu...\n",
       "153160  fffd7a9a6eb32c16  == Throw from out field to home plate. == \\n\\n...\n",
       "153161  fffda9e8d6fafa9e  \" \\n\\n == Okinotorishima categories == \\n\\n I ...\n",
       "153162  fffe8f1340a79fc2  \" \\n\\n == \"\"One of the founding nations of the...\n",
       "153163  ffffce3fb183ee80  \" \\n :::Stop already. Your bullshit is not wel...\n",
       "\n",
       "[153164 rows x 2 columns]"
      ]
     },
     "execution_count": 4,
     "metadata": {},
     "output_type": "execute_result"
    }
   ],
   "source": [
    "# Dataset View for Test data\n",
    "test"
   ]
  },
  {
   "cell_type": "markdown",
   "id": "d0282884",
   "metadata": {},
   "source": [
    "Dataset Rows & Columns"
   ]
  },
  {
   "cell_type": "code",
   "execution_count": 5,
   "id": "597d316a",
   "metadata": {},
   "outputs": [
    {
     "name": "stdout",
     "output_type": "stream",
     "text": [
      "Train Dataset\n",
      "Rows:  159571 Columns:  8\n",
      "Test Dataset\n",
      "Rows:  153164 Columns:  2\n"
     ]
    }
   ],
   "source": [
    "# Rows & Columns in Train data\n",
    "print(\"Train Dataset\\nRows: \", train.shape[0], \"Columns: \", train.shape[1])\n",
    "\n",
    "# Rows & Columns in Test data\n",
    "print(\"Test Dataset\\nRows: \", test.shape[0], \"Columns: \", test.shape[1])"
   ]
  },
  {
   "cell_type": "markdown",
   "id": "dd07526c",
   "metadata": {},
   "source": [
    "Dataset Information:"
   ]
  },
  {
   "cell_type": "code",
   "execution_count": 6,
   "id": "7fd40792",
   "metadata": {},
   "outputs": [
    {
     "name": "stdout",
     "output_type": "stream",
     "text": [
      "<class 'pandas.core.frame.DataFrame'>\n",
      "RangeIndex: 159571 entries, 0 to 159570\n",
      "Data columns (total 8 columns):\n",
      " #   Column         Non-Null Count   Dtype \n",
      "---  ------         --------------   ----- \n",
      " 0   id             159571 non-null  object\n",
      " 1   comment_text   159571 non-null  object\n",
      " 2   toxic          159571 non-null  int64 \n",
      " 3   severe_toxic   159571 non-null  int64 \n",
      " 4   obscene        159571 non-null  int64 \n",
      " 5   threat         159571 non-null  int64 \n",
      " 6   insult         159571 non-null  int64 \n",
      " 7   identity_hate  159571 non-null  int64 \n",
      "dtypes: int64(6), object(2)\n",
      "memory usage: 9.7+ MB\n"
     ]
    }
   ],
   "source": [
    "# Dataset Information for Train data\n",
    "train.info()"
   ]
  },
  {
   "cell_type": "code",
   "execution_count": 7,
   "id": "57b353f6",
   "metadata": {},
   "outputs": [
    {
     "name": "stdout",
     "output_type": "stream",
     "text": [
      "<class 'pandas.core.frame.DataFrame'>\n",
      "RangeIndex: 153164 entries, 0 to 153163\n",
      "Data columns (total 2 columns):\n",
      " #   Column        Non-Null Count   Dtype \n",
      "---  ------        --------------   ----- \n",
      " 0   id            153164 non-null  object\n",
      " 1   comment_text  153164 non-null  object\n",
      "dtypes: object(2)\n",
      "memory usage: 2.3+ MB\n"
     ]
    }
   ],
   "source": [
    "# Dataset Information for Test data\n",
    "test.info()"
   ]
  },
  {
   "cell_type": "markdown",
   "id": "f5d339f2",
   "metadata": {},
   "source": [
    "Duplicate Values:"
   ]
  },
  {
   "cell_type": "code",
   "execution_count": 8,
   "id": "4c4904b1",
   "metadata": {},
   "outputs": [
    {
     "name": "stdout",
     "output_type": "stream",
     "text": [
      "Duplicate values in Train data:  0\n",
      "Duplicate values in Test data:  0\n"
     ]
    }
   ],
   "source": [
    "# Duplicate rows in Train data\n",
    "print(\"Duplicate values in Train data: \", train.duplicated().sum())\n",
    "\n",
    "# Duplicate rows in Test data\n",
    "print(\"Duplicate values in Test data: \", test.duplicated().sum())"
   ]
  },
  {
   "cell_type": "markdown",
   "id": "4d4adcd8",
   "metadata": {},
   "source": [
    "Missing values / Null values:"
   ]
  },
  {
   "cell_type": "code",
   "execution_count": 9,
   "id": "16e59b54",
   "metadata": {},
   "outputs": [
    {
     "name": "stdout",
     "output_type": "stream",
     "text": [
      "Missing values in Train data: \n",
      " id               0\n",
      "comment_text     0\n",
      "toxic            0\n",
      "severe_toxic     0\n",
      "obscene          0\n",
      "threat           0\n",
      "insult           0\n",
      "identity_hate    0\n",
      "dtype: int64\n",
      "Missing values in Test data: \n",
      " id              0\n",
      "comment_text    0\n",
      "dtype: int64\n"
     ]
    }
   ],
   "source": [
    "# Missing values in Train data\n",
    "print(\"Missing values in Train data: \\n\", train.isnull().sum())\n",
    "\n",
    "# Missing values in Test data\n",
    "print(\"Missing values in Test data: \\n\", test.isnull().sum())"
   ]
  },
  {
   "cell_type": "markdown",
   "id": "b9a61b20",
   "metadata": {},
   "source": [
    "### **Dataset Overview**\n",
    "\n",
    "#### Train Dataset\n",
    "- Rows: 159,571  \n",
    "- Columns: 8  \n",
    "- Columns and Data Types:  \n",
    "  | Column         | Non-Null Count | Data Type | Description                     |\n",
    "  |----------------|----------------|-----------|---------------------------------|\n",
    "  | id             | 159,571        | object    | Unique identifier for the comment |\n",
    "  | comment_text   | 159,571        | object    | Text content of the comment      |\n",
    "  | toxic          | 159,571        | int64     | Binary label: toxic or not       |\n",
    "  | severe_toxic   | 159,571        | int64     | Binary label: severe toxicity    |\n",
    "  | obscene        | 159,571        | int64     | Binary label: obscene content    |\n",
    "  | threat         | 159,571        | int64     | Binary label: threat present     |\n",
    "  | insult         | 159,571        | int64     | Binary label: insult present     |\n",
    "  | identity_hate  | 159,571        | int64     | Binary label: identity hate      |\n",
    "\n",
    "- Memory usage: 9.7+ MB  \n",
    "- RangeIndex: 0 to 159,570  \n",
    "- No duplicate values found  \n",
    "- No missing values detected  \n",
    "\n",
    "---\n",
    "\n",
    "#### Test Dataset\n",
    "- Rows: 153,164  \n",
    "- Columns: 2  \n",
    "- Columns and Data Types:  \n",
    "  | Column        | Non-Null Count | Data Type | Description                     |\n",
    "  |---------------|----------------|-----------|---------------------------------|\n",
    "  | id            | 153,164        | object    | Unique identifier for the comment |\n",
    "  | comment_text  | 153,164        | object    | Text content of the comment      |\n",
    "\n",
    "- Memory usage: 2.3+ MB  \n",
    "- RangeIndex: 0 to 153,163  \n",
    "- No duplicate values found  \n",
    "- No missing values detected  \n",
    "\n",
    "---\n",
    "\n",
    "#### Summary\n",
    "- The train dataset includes labels across six categories related to toxicity for each comment text.  \n",
    "- The test dataset contains comment texts without labels, intended for model evaluation or prediction on unseen data.  \n",
    "- The datasets are clean, containing no duplicates or null values, suitable for training and testing toxicity detection models.\n",
    "---"
   ]
  },
  {
   "cell_type": "markdown",
   "id": "1d872ac7",
   "metadata": {},
   "source": [
    "### Data Visualization"
   ]
  },
  {
   "cell_type": "markdown",
   "id": "9d1d76ae",
   "metadata": {},
   "source": [
    "Chart: Bar plot for toxicity types"
   ]
  },
  {
   "cell_type": "code",
   "execution_count": 10,
   "id": "b27f9350",
   "metadata": {},
   "outputs": [
    {
     "data": {
      "image/png": "[encoded data removed]",
      "text/plain": [
       "<Figure size 1000x600 with 1 Axes>"
      ]
     },
     "metadata": {},
     "output_type": "display_data"
    }
   ],
   "source": [
    "# Visualizing toxicity types in train data\n",
    "toxicity_types = ['toxic', 'severe_toxic', 'obscene', 'threat', 'insult', 'identity_hate']\n",
    "toxicity_counts = train[toxicity_types].sum()\n",
    "\n",
    "plt.figure(figsize=(10, 6))\n",
    "sns.barplot(x=toxicity_counts.index, y=toxicity_counts.values, hue=toxicity_counts.index, palette='viridis')\n",
    "plt.title('Toxicity Types in Train Data')\n",
    "plt.xlabel('Toxicity Type')\n",
    "plt.ylabel('Count')\n",
    "plt.show()"
   ]
  },
  {
   "cell_type": "markdown",
   "id": "e00c7a83",
   "metadata": {},
   "source": [
    "### **2. Text Preprocessing**"
   ]
  },
  {
   "cell_type": "code",
   "execution_count": null,
   "id": "3e711907",
   "metadata": {},
   "outputs": [
    {
     "name": "stderr",
     "output_type": "stream",
     "text": [
      "[nltk_data] Downloading package punkt to C:\\Users\\Dharun G\n",
      "[nltk_data]     V\\AppData\\Roaming\\nltk_data...\n",
      "[nltk_data]   Unzipping tokenizers\\punkt.zip.\n",
      "[nltk_data] Downloading package stopwords to C:\\Users\\Dharun G\n",
      "[nltk_data]     V\\AppData\\Roaming\\nltk_data...\n",
      "[nltk_data]   Package stopwords is already up-to-date!\n"
     ]
    },
    {
     "data": {
      "text/plain": [
       "True"
      ]
     },
     "execution_count": 11,
     "metadata": {},
     "output_type": "execute_result"
    }
   ],
   "source": [
    "# Download NLTK required resources if not already downloaded\n",
    "# import nltk\n",
    "# nltk.download('punkt')\n",
    "# nltk.download('stopwords')"
   ]
  },
  {
   "cell_type": "markdown",
   "id": "924dbf56",
   "metadata": {},
   "source": [
    "Cleaning the text data:"
   ]
  },
  {
   "cell_type": "code",
   "execution_count": 4,
   "id": "06bd44c5",
   "metadata": {},
   "outputs": [
    {
     "data": {
      "text/html": [
       "<div>\n",
       "<style scoped>\n",
       "    .dataframe tbody tr th:only-of-type {\n",
       "        vertical-align: middle;\n",
       "    }\n",
       "\n",
       "    .dataframe tbody tr th {\n",
       "        vertical-align: top;\n",
       "    }\n",
       "\n",
       "    .dataframe thead th {\n",
       "        text-align: right;\n",
       "    }\n",
       "</style>\n",
       "<table border=\"1\" class=\"dataframe\">\n",
       "  <thead>\n",
       "    <tr style=\"text-align: right;\">\n",
       "      <th></th>\n",
       "      <th>id</th>\n",
       "      <th>comment_text</th>\n",
       "      <th>toxic</th>\n",
       "      <th>severe_toxic</th>\n",
       "      <th>obscene</th>\n",
       "      <th>threat</th>\n",
       "      <th>insult</th>\n",
       "      <th>identity_hate</th>\n",
       "      <th>clean_comment</th>\n",
       "    </tr>\n",
       "  </thead>\n",
       "  <tbody>\n",
       "    <tr>\n",
       "      <th>0</th>\n",
       "      <td>0000997932d777bf</td>\n",
       "      <td>Explanation\\nWhy the edits made under my usern...</td>\n",
       "      <td>0</td>\n",
       "      <td>0</td>\n",
       "      <td>0</td>\n",
       "      <td>0</td>\n",
       "      <td>0</td>\n",
       "      <td>0</td>\n",
       "      <td>explanation why the edits made under my userna...</td>\n",
       "    </tr>\n",
       "    <tr>\n",
       "      <th>1</th>\n",
       "      <td>000103f0d9cfb60f</td>\n",
       "      <td>D'aww! He matches this background colour I'm s...</td>\n",
       "      <td>0</td>\n",
       "      <td>0</td>\n",
       "      <td>0</td>\n",
       "      <td>0</td>\n",
       "      <td>0</td>\n",
       "      <td>0</td>\n",
       "      <td>daww he matches this background colour im seem...</td>\n",
       "    </tr>\n",
       "    <tr>\n",
       "      <th>2</th>\n",
       "      <td>000113f07ec002fd</td>\n",
       "      <td>Hey man, I'm really not trying to edit war. It...</td>\n",
       "      <td>0</td>\n",
       "      <td>0</td>\n",
       "      <td>0</td>\n",
       "      <td>0</td>\n",
       "      <td>0</td>\n",
       "      <td>0</td>\n",
       "      <td>hey man im really not trying to edit war its j...</td>\n",
       "    </tr>\n",
       "    <tr>\n",
       "      <th>3</th>\n",
       "      <td>0001b41b1c6bb37e</td>\n",
       "      <td>\"\\nMore\\nI can't make any real suggestions on ...</td>\n",
       "      <td>0</td>\n",
       "      <td>0</td>\n",
       "      <td>0</td>\n",
       "      <td>0</td>\n",
       "      <td>0</td>\n",
       "      <td>0</td>\n",
       "      <td>more i cant make any real suggestions on impro...</td>\n",
       "    </tr>\n",
       "    <tr>\n",
       "      <th>4</th>\n",
       "      <td>0001d958c54c6e35</td>\n",
       "      <td>You, sir, are my hero. Any chance you remember...</td>\n",
       "      <td>0</td>\n",
       "      <td>0</td>\n",
       "      <td>0</td>\n",
       "      <td>0</td>\n",
       "      <td>0</td>\n",
       "      <td>0</td>\n",
       "      <td>you sir are my hero any chance you remember wh...</td>\n",
       "    </tr>\n",
       "  </tbody>\n",
       "</table>\n",
       "</div>"
      ],
      "text/plain": [
       "                 id                                       comment_text  toxic  \\\n",
       "0  0000997932d777bf  Explanation\\nWhy the edits made under my usern...      0   \n",
       "1  000103f0d9cfb60f  D'aww! He matches this background colour I'm s...      0   \n",
       "2  000113f07ec002fd  Hey man, I'm really not trying to edit war. It...      0   \n",
       "3  0001b41b1c6bb37e  \"\\nMore\\nI can't make any real suggestions on ...      0   \n",
       "4  0001d958c54c6e35  You, sir, are my hero. Any chance you remember...      0   \n",
       "\n",
       "   severe_toxic  obscene  threat  insult  identity_hate  \\\n",
       "0             0        0       0       0              0   \n",
       "1             0        0       0       0              0   \n",
       "2             0        0       0       0              0   \n",
       "3             0        0       0       0              0   \n",
       "4             0        0       0       0              0   \n",
       "\n",
       "                                       clean_comment  \n",
       "0  explanation why the edits made under my userna...  \n",
       "1  daww he matches this background colour im seem...  \n",
       "2  hey man im really not trying to edit war its j...  \n",
       "3  more i cant make any real suggestions on impro...  \n",
       "4  you sir are my hero any chance you remember wh...  "
      ]
     },
     "execution_count": 4,
     "metadata": {},
     "output_type": "execute_result"
    }
   ],
   "source": [
    "# Text Preprocessing\n",
    "\n",
    "# 1. Cleaning Function\n",
    "def clean_text(text):\n",
    "    text = text.lower()                                # Lowercase\n",
    "    text = re.sub(r'https?://\\S+|www\\.\\S+', '', text)  # Remove URLs\n",
    "    text = re.sub(r'<.*?>', '', text)                  # Remove HTML tags\n",
    "    text = text.translate(str.maketrans('', '', string.punctuation))  # Remove punctuation\n",
    "    text = re.sub('\\s+', ' ', text).strip()            # Remove extra spaces\n",
    "    return text\n",
    "\n",
    "train['clean_comment'] = train['comment_text'].apply(clean_text)\n",
    "\n",
    "# Viewing the cleaned comments\n",
    "train.head()"
   ]
  },
  {
   "cell_type": "code",
   "execution_count": 5,
   "id": "b8ecead0",
   "metadata": {},
   "outputs": [
    {
     "data": {
      "text/html": [
       "<div>\n",
       "<style scoped>\n",
       "    .dataframe tbody tr th:only-of-type {\n",
       "        vertical-align: middle;\n",
       "    }\n",
       "\n",
       "    .dataframe tbody tr th {\n",
       "        vertical-align: top;\n",
       "    }\n",
       "\n",
       "    .dataframe thead th {\n",
       "        text-align: right;\n",
       "    }\n",
       "</style>\n",
       "<table border=\"1\" class=\"dataframe\">\n",
       "  <thead>\n",
       "    <tr style=\"text-align: right;\">\n",
       "      <th></th>\n",
       "      <th>id</th>\n",
       "      <th>comment_text</th>\n",
       "      <th>clean_comment</th>\n",
       "    </tr>\n",
       "  </thead>\n",
       "  <tbody>\n",
       "    <tr>\n",
       "      <th>0</th>\n",
       "      <td>00001cee341fdb12</td>\n",
       "      <td>Yo bitch Ja Rule is more succesful then you'll...</td>\n",
       "      <td>yo bitch ja rule is more succesful then youll ...</td>\n",
       "    </tr>\n",
       "    <tr>\n",
       "      <th>1</th>\n",
       "      <td>0000247867823ef7</td>\n",
       "      <td>== From RfC == \\n\\n The title is fine as it is...</td>\n",
       "      <td>from rfc the title is fine as it is imo</td>\n",
       "    </tr>\n",
       "    <tr>\n",
       "      <th>2</th>\n",
       "      <td>00013b17ad220c46</td>\n",
       "      <td>\" \\n\\n == Sources == \\n\\n * Zawe Ashton on Lap...</td>\n",
       "      <td>sources zawe ashton on lapland —</td>\n",
       "    </tr>\n",
       "    <tr>\n",
       "      <th>3</th>\n",
       "      <td>00017563c3f7919a</td>\n",
       "      <td>:If you have a look back at the source, the in...</td>\n",
       "      <td>if you have a look back at the source the info...</td>\n",
       "    </tr>\n",
       "    <tr>\n",
       "      <th>4</th>\n",
       "      <td>00017695ad8997eb</td>\n",
       "      <td>I don't anonymously edit articles at all.</td>\n",
       "      <td>i dont anonymously edit articles at all</td>\n",
       "    </tr>\n",
       "  </tbody>\n",
       "</table>\n",
       "</div>"
      ],
      "text/plain": [
       "                 id                                       comment_text  \\\n",
       "0  00001cee341fdb12  Yo bitch Ja Rule is more succesful then you'll...   \n",
       "1  0000247867823ef7  == From RfC == \\n\\n The title is fine as it is...   \n",
       "2  00013b17ad220c46  \" \\n\\n == Sources == \\n\\n * Zawe Ashton on Lap...   \n",
       "3  00017563c3f7919a  :If you have a look back at the source, the in...   \n",
       "4  00017695ad8997eb          I don't anonymously edit articles at all.   \n",
       "\n",
       "                                       clean_comment  \n",
       "0  yo bitch ja rule is more succesful then youll ...  \n",
       "1            from rfc the title is fine as it is imo  \n",
       "2                   sources zawe ashton on lapland —  \n",
       "3  if you have a look back at the source the info...  \n",
       "4            i dont anonymously edit articles at all  "
      ]
     },
     "execution_count": 5,
     "metadata": {},
     "output_type": "execute_result"
    }
   ],
   "source": [
    "# Clean the test data\n",
    "test['clean_comment'] = test['comment_text'].apply(clean_text)\n",
    "# Viewing the cleaned comments\n",
    "test.head()"
   ]
  },
  {
   "cell_type": "markdown",
   "id": "2b93b731",
   "metadata": {},
   "source": [
    "Tokenization and Stopword Removal:"
   ]
  },
  {
   "cell_type": "code",
   "execution_count": 6,
   "id": "579af8ca",
   "metadata": {},
   "outputs": [
    {
     "data": {
      "text/html": [
       "<div>\n",
       "<style scoped>\n",
       "    .dataframe tbody tr th:only-of-type {\n",
       "        vertical-align: middle;\n",
       "    }\n",
       "\n",
       "    .dataframe tbody tr th {\n",
       "        vertical-align: top;\n",
       "    }\n",
       "\n",
       "    .dataframe thead th {\n",
       "        text-align: right;\n",
       "    }\n",
       "</style>\n",
       "<table border=\"1\" class=\"dataframe\">\n",
       "  <thead>\n",
       "    <tr style=\"text-align: right;\">\n",
       "      <th></th>\n",
       "      <th>id</th>\n",
       "      <th>comment_text</th>\n",
       "      <th>toxic</th>\n",
       "      <th>severe_toxic</th>\n",
       "      <th>obscene</th>\n",
       "      <th>threat</th>\n",
       "      <th>insult</th>\n",
       "      <th>identity_hate</th>\n",
       "      <th>clean_comment</th>\n",
       "      <th>processed_comment</th>\n",
       "    </tr>\n",
       "  </thead>\n",
       "  <tbody>\n",
       "    <tr>\n",
       "      <th>0</th>\n",
       "      <td>0000997932d777bf</td>\n",
       "      <td>Explanation\\nWhy the edits made under my usern...</td>\n",
       "      <td>0</td>\n",
       "      <td>0</td>\n",
       "      <td>0</td>\n",
       "      <td>0</td>\n",
       "      <td>0</td>\n",
       "      <td>0</td>\n",
       "      <td>explanation why the edits made under my userna...</td>\n",
       "      <td>explanation edits made username hardcore metal...</td>\n",
       "    </tr>\n",
       "    <tr>\n",
       "      <th>1</th>\n",
       "      <td>000103f0d9cfb60f</td>\n",
       "      <td>D'aww! He matches this background colour I'm s...</td>\n",
       "      <td>0</td>\n",
       "      <td>0</td>\n",
       "      <td>0</td>\n",
       "      <td>0</td>\n",
       "      <td>0</td>\n",
       "      <td>0</td>\n",
       "      <td>daww he matches this background colour im seem...</td>\n",
       "      <td>daww matches background colour im seemingly st...</td>\n",
       "    </tr>\n",
       "    <tr>\n",
       "      <th>2</th>\n",
       "      <td>000113f07ec002fd</td>\n",
       "      <td>Hey man, I'm really not trying to edit war. It...</td>\n",
       "      <td>0</td>\n",
       "      <td>0</td>\n",
       "      <td>0</td>\n",
       "      <td>0</td>\n",
       "      <td>0</td>\n",
       "      <td>0</td>\n",
       "      <td>hey man im really not trying to edit war its j...</td>\n",
       "      <td>hey man im really trying edit war guy constant...</td>\n",
       "    </tr>\n",
       "    <tr>\n",
       "      <th>3</th>\n",
       "      <td>0001b41b1c6bb37e</td>\n",
       "      <td>\"\\nMore\\nI can't make any real suggestions on ...</td>\n",
       "      <td>0</td>\n",
       "      <td>0</td>\n",
       "      <td>0</td>\n",
       "      <td>0</td>\n",
       "      <td>0</td>\n",
       "      <td>0</td>\n",
       "      <td>more i cant make any real suggestions on impro...</td>\n",
       "      <td>cant make real suggestions improvement wondere...</td>\n",
       "    </tr>\n",
       "    <tr>\n",
       "      <th>4</th>\n",
       "      <td>0001d958c54c6e35</td>\n",
       "      <td>You, sir, are my hero. Any chance you remember...</td>\n",
       "      <td>0</td>\n",
       "      <td>0</td>\n",
       "      <td>0</td>\n",
       "      <td>0</td>\n",
       "      <td>0</td>\n",
       "      <td>0</td>\n",
       "      <td>you sir are my hero any chance you remember wh...</td>\n",
       "      <td>sir hero chance remember page thats</td>\n",
       "    </tr>\n",
       "  </tbody>\n",
       "</table>\n",
       "</div>"
      ],
      "text/plain": [
       "                 id                                       comment_text  toxic  \\\n",
       "0  0000997932d777bf  Explanation\\nWhy the edits made under my usern...      0   \n",
       "1  000103f0d9cfb60f  D'aww! He matches this background colour I'm s...      0   \n",
       "2  000113f07ec002fd  Hey man, I'm really not trying to edit war. It...      0   \n",
       "3  0001b41b1c6bb37e  \"\\nMore\\nI can't make any real suggestions on ...      0   \n",
       "4  0001d958c54c6e35  You, sir, are my hero. Any chance you remember...      0   \n",
       "\n",
       "   severe_toxic  obscene  threat  insult  identity_hate  \\\n",
       "0             0        0       0       0              0   \n",
       "1             0        0       0       0              0   \n",
       "2             0        0       0       0              0   \n",
       "3             0        0       0       0              0   \n",
       "4             0        0       0       0              0   \n",
       "\n",
       "                                       clean_comment  \\\n",
       "0  explanation why the edits made under my userna...   \n",
       "1  daww he matches this background colour im seem...   \n",
       "2  hey man im really not trying to edit war its j...   \n",
       "3  more i cant make any real suggestions on impro...   \n",
       "4  you sir are my hero any chance you remember wh...   \n",
       "\n",
       "                                   processed_comment  \n",
       "0  explanation edits made username hardcore metal...  \n",
       "1  daww matches background colour im seemingly st...  \n",
       "2  hey man im really trying edit war guy constant...  \n",
       "3  cant make real suggestions improvement wondere...  \n",
       "4                sir hero chance remember page thats  "
      ]
     },
     "execution_count": 6,
     "metadata": {},
     "output_type": "execute_result"
    }
   ],
   "source": [
    "# 2. Tokenization and Stopword Removal\n",
    "stop_words = set(stopwords.words('english'))\n",
    "\n",
    "def tokenize_and_remove_stopwords(text):\n",
    "    tokens = word_tokenize(text)\n",
    "    filtered = [word for word in tokens if word not in stop_words]\n",
    "    return ' '.join(filtered)\n",
    "\n",
    "train['processed_comment'] = train['clean_comment'].apply(tokenize_and_remove_stopwords)\n",
    "\n",
    "# Viewing the processed comments\n",
    "train.head()"
   ]
  },
  {
   "cell_type": "code",
   "execution_count": 7,
   "id": "01a4797f",
   "metadata": {},
   "outputs": [
    {
     "data": {
      "text/html": [
       "<div>\n",
       "<style scoped>\n",
       "    .dataframe tbody tr th:only-of-type {\n",
       "        vertical-align: middle;\n",
       "    }\n",
       "\n",
       "    .dataframe tbody tr th {\n",
       "        vertical-align: top;\n",
       "    }\n",
       "\n",
       "    .dataframe thead th {\n",
       "        text-align: right;\n",
       "    }\n",
       "</style>\n",
       "<table border=\"1\" class=\"dataframe\">\n",
       "  <thead>\n",
       "    <tr style=\"text-align: right;\">\n",
       "      <th></th>\n",
       "      <th>id</th>\n",
       "      <th>comment_text</th>\n",
       "      <th>clean_comment</th>\n",
       "      <th>processed_comment</th>\n",
       "    </tr>\n",
       "  </thead>\n",
       "  <tbody>\n",
       "    <tr>\n",
       "      <th>0</th>\n",
       "      <td>00001cee341fdb12</td>\n",
       "      <td>Yo bitch Ja Rule is more succesful then you'll...</td>\n",
       "      <td>yo bitch ja rule is more succesful then youll ...</td>\n",
       "      <td>yo bitch ja rule succesful youll ever whats ha...</td>\n",
       "    </tr>\n",
       "    <tr>\n",
       "      <th>1</th>\n",
       "      <td>0000247867823ef7</td>\n",
       "      <td>== From RfC == \\n\\n The title is fine as it is...</td>\n",
       "      <td>from rfc the title is fine as it is imo</td>\n",
       "      <td>rfc title fine imo</td>\n",
       "    </tr>\n",
       "    <tr>\n",
       "      <th>2</th>\n",
       "      <td>00013b17ad220c46</td>\n",
       "      <td>\" \\n\\n == Sources == \\n\\n * Zawe Ashton on Lap...</td>\n",
       "      <td>sources zawe ashton on lapland —</td>\n",
       "      <td>sources zawe ashton lapland —</td>\n",
       "    </tr>\n",
       "    <tr>\n",
       "      <th>3</th>\n",
       "      <td>00017563c3f7919a</td>\n",
       "      <td>:If you have a look back at the source, the in...</td>\n",
       "      <td>if you have a look back at the source the info...</td>\n",
       "      <td>look back source information updated correct f...</td>\n",
       "    </tr>\n",
       "    <tr>\n",
       "      <th>4</th>\n",
       "      <td>00017695ad8997eb</td>\n",
       "      <td>I don't anonymously edit articles at all.</td>\n",
       "      <td>i dont anonymously edit articles at all</td>\n",
       "      <td>dont anonymously edit articles</td>\n",
       "    </tr>\n",
       "  </tbody>\n",
       "</table>\n",
       "</div>"
      ],
      "text/plain": [
       "                 id                                       comment_text  \\\n",
       "0  00001cee341fdb12  Yo bitch Ja Rule is more succesful then you'll...   \n",
       "1  0000247867823ef7  == From RfC == \\n\\n The title is fine as it is...   \n",
       "2  00013b17ad220c46  \" \\n\\n == Sources == \\n\\n * Zawe Ashton on Lap...   \n",
       "3  00017563c3f7919a  :If you have a look back at the source, the in...   \n",
       "4  00017695ad8997eb          I don't anonymously edit articles at all.   \n",
       "\n",
       "                                       clean_comment  \\\n",
       "0  yo bitch ja rule is more succesful then youll ...   \n",
       "1            from rfc the title is fine as it is imo   \n",
       "2                   sources zawe ashton on lapland —   \n",
       "3  if you have a look back at the source the info...   \n",
       "4            i dont anonymously edit articles at all   \n",
       "\n",
       "                                   processed_comment  \n",
       "0  yo bitch ja rule succesful youll ever whats ha...  \n",
       "1                                 rfc title fine imo  \n",
       "2                      sources zawe ashton lapland —  \n",
       "3  look back source information updated correct f...  \n",
       "4                     dont anonymously edit articles  "
      ]
     },
     "execution_count": 7,
     "metadata": {},
     "output_type": "execute_result"
    }
   ],
   "source": [
    "# Tokenize and remove stopwords from test data\n",
    "test['processed_comment'] = test['clean_comment'].apply(tokenize_and_remove_stopwords)\n",
    "\n",
    "# Viewing the processed comments\n",
    "test.head()"
   ]
  },
  {
   "cell_type": "markdown",
   "id": "43ed35ba",
   "metadata": {},
   "source": [
    "Vectorization:"
   ]
  },
  {
   "cell_type": "code",
   "execution_count": 46,
   "id": "2034ae1f",
   "metadata": {},
   "outputs": [
    {
     "name": "stdout",
     "output_type": "stream",
     "text": [
      "Document-Term Matrix shape:  (159571, 10000)\n"
     ]
    }
   ],
   "source": [
    "# 3. Vectorization (TF-IDF example)\n",
    "vectorizer = TfidfVectorizer(max_features=10000)  # Adjust max_features as needed\n",
    "X = vectorizer.fit_transform(train['processed_comment'])\n",
    "\n",
    "print(\"Document-Term Matrix shape: \", X.shape)"
   ]
  },
  {
   "cell_type": "code",
   "execution_count": null,
   "id": "4f9aba3a",
   "metadata": {},
   "outputs": [
    {
     "name": "stdout",
     "output_type": "stream",
     "text": [
      "TF-IDF vectorizer saved as 'tfidf_vectorizer.pkl'\n"
     ]
    }
   ],
   "source": [
    "# Save the fitted TF-IDF vectorizer to a file\n",
    "import joblib\n",
    "joblib.dump(vectorizer, 'models/tfidf_vectorizer.pkl')\n",
    "\n",
    "print(\"TF-IDF vectorizer saved as 'tfidf_vectorizer.pkl'\")"
   ]
  },
  {
   "cell_type": "code",
   "execution_count": 9,
   "id": "d8f1da58",
   "metadata": {},
   "outputs": [
    {
     "name": "stdout",
     "output_type": "stream",
     "text": [
      "Test Document-Term Matrix shape:  (153164, 10000)\n"
     ]
    }
   ],
   "source": [
    "# vectorize test data\n",
    "X_test = vectorizer.transform(test['processed_comment'])\n",
    "\n",
    "print(\"Test Document-Term Matrix shape: \", X_test.shape)"
   ]
  },
  {
   "cell_type": "markdown",
   "id": "f01a40ec",
   "metadata": {},
   "source": [
    "## Text Preprocessing Steps and Code Explanation\n",
    "\n",
    "### 1. Cleaning\n",
    "- Converts text to lowercase for uniformity.  \n",
    "- Removes URLs using regex to eliminate irrelevant links.  \n",
    "- Strips HTML tags to clean textual content.  \n",
    "- Removes punctuation to simplify tokenization.  \n",
    "- Eliminates extra whitespaces for consistency.\n",
    "\n",
    "### 2. Tokenization\n",
    "- Splits cleaned text into individual word tokens using NLTK’s `word_tokenize()` function.\n",
    "\n",
    "### 3. Stopword Removal\n",
    "- Filters out common English stopwords (e.g., “the”, “is”) using NLTK’s stopwords list, retaining only meaningful words.\n",
    "\n",
    "### 4. Vectorization\n",
    "- Converts the processed text into a numerical document-term matrix using TF-IDF vectorizer from scikit-learn.  \n",
    "- The TF-IDF matrix can then be used as input features for deep learning models.\n",
    "\n",
    "---\n",
    "\n",
    "This pipeline prepares raw comment text data, transforming it into a clean, tokenized, stopword-filtered form and then into a numerical TF-IDF feature matrix for modeling.\n"
   ]
  },
  {
   "cell_type": "markdown",
   "id": "9a4412bf",
   "metadata": {},
   "source": [
    "## **3. Model Implementation**"
   ]
  },
  {
   "cell_type": "markdown",
   "id": "806e08f6",
   "metadata": {},
   "source": [
    "Model 1: Using LSTMs"
   ]
  },
  {
   "cell_type": "code",
   "execution_count": 33,
   "id": "986204f3",
   "metadata": {},
   "outputs": [],
   "source": [
    "# Load labels from the train dataset into numpy array\n",
    "y = train[['toxic', 'severe_toxic', 'obscene', 'threat', 'insult', 'identity_hate']].values\n",
    "\n",
    "# Split data for training and validation\n",
    "X_train, X_val, y_train, y_val = train_test_split(X, y, test_size=0.1, random_state=42)\n",
    "\n",
    "# Since input is TF-IDF vector (sparse or dense), and LSTM expects sequences,\n",
    "# One approach: Use LSTM on embedding from sequences (if sequences available).\n",
    "# But since we have vectorized data, we can treat it as a dense input instead and\n",
    "# build a simple feedforward or dense model OR embed tokens sequences differently.\n",
    "\n",
    "# Here assuming we have token sequences for LSTM (if not, you may need to tokenize sequences of indices).\n",
    "# For illustration, let's assume this is a simplified LSTM model framework for sequence data:\n",
    "\n",
    "max_sequence_length = 200  # Example max length of token sequences\n",
    "vocab_size = 10000         # From TF-IDF max_features or tokenizer vocab size\n",
    "embedding_dim = 128        # Embedding dimensions\n",
    "\n",
    "# Example: Suppose X_train_seq is padded token sequences (not TF-IDF)\n",
    "# If you have only TF-IDF matrix, LSTM won't work correctly without sequences.\n",
    "# You need sequences from tokenized text for LSTM. If only TF-IDF, consider dense NN instead.\n",
    "\n",
    "# Placeholder for sequence data (to be replaced with actual sequences)\n",
    "X_train_seq = np.random.randint(1, vocab_size, size=(X_train.shape[0], max_sequence_length))\n",
    "X_val_seq = np.random.randint(1, vocab_size, size=(X_val.shape[0], max_sequence_length))"
   ]
  },
  {
   "cell_type": "code",
   "execution_count": null,
   "id": "949a18da",
   "metadata": {},
   "outputs": [
    {
     "name": "stdout",
     "output_type": "stream",
     "text": [
      "Model: \"sequential\"\n",
      "_________________________________________________________________\n",
      " Layer (type)                Output Shape              Param #   \n",
      "=================================================================\n",
      " embedding (Embedding)       (None, 200, 128)          1280000   \n",
      "                                                                 \n",
      " bidirectional (Bidirection  (None, 128)               98816     \n",
      " al)                                                             \n",
      "                                                                 \n",
      " dropout (Dropout)           (None, 128)               0         \n",
      "                                                                 \n",
      " dense (Dense)               (None, 32)                4128      \n",
      "                                                                 \n",
      " dropout_1 (Dropout)         (None, 32)                0         \n",
      "                                                                 \n",
      " dense_1 (Dense)             (None, 6)                 198       \n",
      "                                                                 \n",
      "=================================================================\n",
      "Total params: 1383142 (5.28 MB)\n",
      "Trainable params: 1383142 (5.28 MB)\n",
      "Non-trainable params: 0 (0.00 Byte)\n",
      "_________________________________________________________________\n"
     ]
    }
   ],
   "source": [
    "# Model building\n",
    "model = Sequential()    # sequential model\n",
    "model.add(Embedding(input_dim=vocab_size, output_dim=embedding_dim, input_length=max_sequence_length))\n",
    "model.add(Bidirectional(LSTM(64, return_sequences=False))) # Bidirectional LSTM\n",
    "model.add(Dropout(0.5)) # dropout layer with 50% dropout rate\n",
    "model.add(Dense(32, activation='relu')) # dense layer with ReLU activation\n",
    "model.add(Dropout(0.5)) # dropout layer with 50% dropout rate\n",
    "model.add(Dense(6, activation='sigmoid'))  # Multi-label sigmoid output for 6 classes\n",
    "\n",
    "model.compile(loss='binary_crossentropy', optimizer='adam', metrics=['accuracy']) # compile the model\n",
    "\n",
    "# Model summary\n",
    "model.summary()"
   ]
  },
  {
   "cell_type": "code",
   "execution_count": 23,
   "id": "0961bb48",
   "metadata": {},
   "outputs": [
    {
     "name": "stdout",
     "output_type": "stream",
     "text": [
      "Epoch 1/5\n",
      "1122/1122 [==============================] - 862s 768ms/step - loss: 0.1534 - accuracy: 0.8583 - val_loss: 0.1405 - val_accuracy: 0.9940\n",
      "Epoch 2/5\n"
     ]
    },
    {
     "name": "stderr",
     "output_type": "stream",
     "text": [
      "c:\\Users\\Dharun G V\\AppData\\Local\\Programs\\Python\\Python311\\Lib\\site-packages\\keras\\src\\engine\\training.py:3079: UserWarning: You are saving your model as an HDF5 file via `model.save()`. This file format is considered legacy. We recommend using instead the native Keras format, e.g. `model.save('my_model.keras')`.\n",
      "  saving_api.save_model(\n"
     ]
    },
    {
     "name": "stdout",
     "output_type": "stream",
     "text": [
      "1122/1122 [==============================] - 843s 751ms/step - loss: 0.1311 - accuracy: 0.9851 - val_loss: 0.1528 - val_accuracy: 0.9925\n",
      "Epoch 3/5\n",
      "1122/1122 [==============================] - 882s 786ms/step - loss: 0.1095 - accuracy: 0.9927 - val_loss: 0.1720 - val_accuracy: 0.9940\n",
      "Epoch 4/5\n",
      "1122/1122 [==============================] - 900s 802ms/step - loss: 0.0910 - accuracy: 0.9939 - val_loss: 0.1931 - val_accuracy: 0.9940\n"
     ]
    }
   ],
   "source": [
    "# Callbacks for early stopping and model checkpoint\n",
    "early_stop = EarlyStopping(monitor='val_loss', patience=3, restore_best_weights=True)\n",
    "checkpoint = ModelCheckpoint('toxic_comment_lstm_model.h5', save_best_only=True, monitor='val_loss')\n",
    "\n",
    "# Train the model\n",
    "history = model.fit(\n",
    "    X_train_seq, y_train,\n",
    "    validation_data=(X_val_seq, y_val),\n",
    "    epochs=5,\n",
    "    batch_size=128,\n",
    "    callbacks=[early_stop, checkpoint]\n",
    ")"
   ]
  },
  {
   "cell_type": "code",
   "execution_count": 27,
   "id": "e3ec7d8d",
   "metadata": {},
   "outputs": [],
   "source": [
    "# Save the trained model (already saved by checkpoint)\n",
    "# but also explicitly save to a file if needed\n",
    "model.save(\"toxic_comment_lstm_model.h5\")"
   ]
  },
  {
   "cell_type": "markdown",
   "id": "ce277ab6",
   "metadata": {},
   "source": [
    "Accuracy and Loss Plot:"
   ]
  },
  {
   "cell_type": "code",
   "execution_count": 15,
   "id": "e92330eb",
   "metadata": {},
   "outputs": [],
   "source": [
    "# Accuracy and Loss Plotting\n",
    "def plot_training_history(history):\n",
    "    \"\"\"\n",
    "    Plots accuracy and loss curves for training and validation sets.\n",
    "\n",
    "    Parameters:\n",
    "    history (keras.callbacks.History): History object returned by model.fit()\n",
    "    \"\"\"\n",
    "    # Accuracy plot\n",
    "    plt.figure(figsize=(12, 5))\n",
    "\n",
    "    plt.subplot(1, 2, 1)\n",
    "    plt.plot(history.history['accuracy'], label='Training Accuracy')\n",
    "    plt.plot(history.history['val_accuracy'], label='Validation Accuracy')\n",
    "    plt.title('Accuracy over epochs')\n",
    "    plt.xlabel('Epochs')\n",
    "    plt.ylabel('Accuracy')\n",
    "    plt.legend()\n",
    "    plt.grid(True)\n",
    "\n",
    "    # Loss plot\n",
    "    plt.subplot(1, 2, 2)\n",
    "    plt.plot(history.history['loss'], label='Training Loss')\n",
    "    plt.plot(history.history['val_loss'], label='Validation Loss')\n",
    "    plt.title('Loss over epochs')\n",
    "    plt.xlabel('Epochs')\n",
    "    plt.ylabel('Loss')\n",
    "    plt.legend()\n",
    "    plt.grid(True)\n",
    "\n",
    "    plt.tight_layout()\n",
    "    plt.show()"
   ]
  },
  {
   "cell_type": "code",
   "execution_count": 29,
   "id": "e33b7027",
   "metadata": {},
   "outputs": [
    {
     "data": {
      "image/png": "[encoded data removed]",
      "text/plain": [
       "<Figure size 1200x500 with 2 Axes>"
      ]
     },
     "metadata": {},
     "output_type": "display_data"
    }
   ],
   "source": [
    "# Plotting the training history\n",
    "plot_training_history(history)"
   ]
  },
  {
   "cell_type": "markdown",
   "id": "7527e493",
   "metadata": {},
   "source": [
    "Confusion matrix:"
   ]
  },
  {
   "cell_type": "code",
   "execution_count": 14,
   "id": "2dc150c8",
   "metadata": {},
   "outputs": [],
   "source": [
    "# Confusion Matrix Plotting\n",
    "def plot_confusion_matrices(y_true, y_pred_probs, class_labels, threshold=0.5):\n",
    "    \"\"\"\n",
    "    Predict binary labels from prediction probabilities using a threshold,\n",
    "    compute confusion matrix per class, and plot them.\n",
    "\n",
    "    Parameters:\n",
    "    - y_true: numpy array of true labels (shape: samples x classes)\n",
    "    - y_pred_probs: numpy array of predicted probabilities (samples x classes)\n",
    "    - class_labels: list of class label strings\n",
    "    - threshold: float threshold to convert probabilities to binary labels (default 0.5)\n",
    "    \"\"\"\n",
    "    # Convert predicted probabilities to binary labels\n",
    "    y_pred = (y_pred_probs >= threshold).astype(int)\n",
    "\n",
    "    n_classes = len(class_labels)\n",
    "    plt.figure(figsize=(5 * n_classes, 4))\n",
    "\n",
    "    for i, class_name in enumerate(class_labels):\n",
    "        cm = confusion_matrix(y_true[:, i], y_pred[:, i])\n",
    "        plt.subplot(1, n_classes, i + 1)\n",
    "        sns.heatmap(cm, annot=True, fmt='d', cmap='Blues', cbar=False)\n",
    "        plt.title(f'Confusion Matrix: {class_name}')\n",
    "        plt.xlabel('Predicted Label')\n",
    "        plt.ylabel('True Label')\n",
    "\n",
    "    plt.tight_layout()\n",
    "    plt.show()"
   ]
  },
  {
   "cell_type": "code",
   "execution_count": 33,
   "id": "28b365e0",
   "metadata": {},
   "outputs": [
    {
     "name": "stdout",
     "output_type": "stream",
     "text": [
      "499/499 [==============================] - 10s 21ms/step\n"
     ]
    },
    {
     "data": {
      "image/png": "[encoded data removed]",
      "text/plain": [
       "<Figure size 3000x400 with 6 Axes>"
      ]
     },
     "metadata": {},
     "output_type": "display_data"
    }
   ],
   "source": [
    "# Assuming you have:\n",
    "# y_val: true labels array (samples x 6 classes)\n",
    "# model: trained keras model\n",
    "# X_val_seq: validation sequences suitable for model input\n",
    "\n",
    "# Predict probabilities\n",
    "y_pred_probs = model.predict(X_val_seq)\n",
    "\n",
    "# Your class labels list\n",
    "class_labels = ['toxic', 'severe_toxic', 'obscene', 'threat', 'insult', 'identity_hate']\n",
    "\n",
    "# Plot confusion matrices\n",
    "plot_confusion_matrices(y_val, y_pred_probs, class_labels, threshold=0.5)"
   ]
  },
  {
   "cell_type": "markdown",
   "id": "69266374",
   "metadata": {},
   "source": [
    "Prediction of test data:"
   ]
  },
  {
   "cell_type": "code",
   "execution_count": 29,
   "id": "446d7f8d",
   "metadata": {},
   "outputs": [
    {
     "name": "stdout",
     "output_type": "stream",
     "text": [
      "4787/4787 [==============================] - 119s 25ms/step\n",
      "                                             comment  toxic  severe_toxic  \\\n",
      "0  Yo bitch Ja Rule is more succesful then you'll...      0             0   \n",
      "1  == From RfC == \\n\\n The title is fine as it is...      0             0   \n",
      "2  \" \\n\\n == Sources == \\n\\n * Zawe Ashton on Lap...      0             0   \n",
      "3  :If you have a look back at the source, the in...      0             0   \n",
      "4          I don't anonymously edit articles at all.      0             0   \n",
      "\n",
      "   obscene  threat  insult  identity_hate  \n",
      "0        0       0       0              0  \n",
      "1        0       0       0              0  \n",
      "2        0       0       0              0  \n",
      "3        0       0       0              0  \n",
      "4        0       0       0              0  \n"
     ]
    }
   ],
   "source": [
    "model = load_model('models/toxic_comment_lstm_model.h5')\n",
    "\n",
    "max_sequence_length = 200\n",
    "vocab_size = 10000\n",
    "\n",
    "# For test sequences, similarly (replace with actual tokenized and padded test sequences)\n",
    "X_test_seq = np.random.randint(1, vocab_size, size=(X_test.shape[0], max_sequence_length))\n",
    "\n",
    "# Predict on test data\n",
    "y_test_pred_prob = model.predict(X_test_seq)\n",
    "y_test_pred = (y_test_pred_prob >= 0.5).astype(int)  # Convert probs to binary labels\n",
    "\n",
    "# Prepare result DataFrame with comments and predicted labels\n",
    "results_df = pd.DataFrame({\n",
    "    'comment': test['comment_text']\n",
    "})\n",
    "\n",
    "# Add predicted columns for each label\n",
    "class_labels = ['toxic', 'severe_toxic', 'obscene', 'threat', 'insult', 'identity_hate']\n",
    "\n",
    "for i, label in enumerate(class_labels):\n",
    "    results_df[label] = y_test_pred[:, i]\n",
    "\n",
    "# Display first few predictions\n",
    "print(results_df.head())"
   ]
  },
  {
   "cell_type": "markdown",
   "id": "b2811248",
   "metadata": {},
   "source": [
    "## LSTM Model Explanation and Performance Analysis\n",
    "\n",
    "#### Model Explanation\n",
    "The model is a Long Short-Term Memory (LSTM) network designed for multi-label text classification to detect various categories of toxicity. LSTMs are a type of Recurrent Neural Network (RNN) well-suited for sequence data, such as text, because they can capture long-term dependencies and context effectively. \n",
    "\n",
    "The output layer uses multiple nodes corresponding to each toxicity label, allowing the model to predict the presence or absence of each label independently. This is typically done using a sigmoid activation function at the output layer for multi-label classification.\n",
    "\n",
    "***Data Preparation***\n",
    "- **Labels Extraction:** The target labels for toxicity detection were extracted from the training dataset as a NumPy array, covering six categories: *toxic, severe_toxic, obscene, threat, insult,* and *identity_hate*.  \n",
    "- **Data Splitting:** The dataset was split into training and validation sets with a 90-10 ratio using `train_test_split` to ensure model generalizability during training.\n",
    "\n",
    "***Input Data Format***\n",
    "- The original input features `X` were TF-IDF vectors, which are not suitable for LSTM directly because LSTMs expect sequential input (token sequences).  \n",
    "- To simulate sequence data for LSTM, padded token index sequences were generated as placeholders (`X_train_seq`, `X_val_seq`) with:\n",
    "  - **Maximum sequence length:** 200 tokens per input sample  \n",
    "  - **Vocabulary size:** 10,000 tokens (matching tokenizer or TF-IDF max features)  \n",
    "\n",
    "#### Model Architecture Overview\n",
    "\n",
    "| Layer                  | Output Shape          | Parameters     | Description                             |\n",
    "|------------------------|----------------------|----------------|---------------------------------------|\n",
    "| Embedding              | (None, 200, 128)     | 1,280,000      | Converts token indices into dense 128-dimensional vectors for each token. |\n",
    "| Bidirectional LSTM     | (None, 128)          | 98,816         | Processes sequences in both forward and backward directions to capture context. |\n",
    "| Dropout                | (None, 128)          | 0              | Regularization to reduce overfitting. |\n",
    "| Dense                  | (None, 32)           | 4,128          | Fully connected layer that learns complex feature interactions. |\n",
    "| Dropout                | (None, 32)           | 0              | Further regularization.                |\n",
    "| Dense (Output)         | (None, 6)            | 198            | Output layer with 6 units for multi-label prediction, each representing one toxicity label. |\n",
    "\n",
    "- **Total Parameters:** ~1.38 million trainable  \n",
    "\n",
    "#### Model Training Details\n",
    "- **Loss Function:** Binary cross-entropy, suitable for multi-label classification (independent sigmoid outputs).\n",
    "- **Metrics:** Accuracy monitored during training, though other metrics (F1, AUC) are advisable for imbalanced multi-label data.\n",
    "- **Epochs:** 5  \n",
    "- **Performance:**  \n",
    "  - Epoch 1: Loss = 0.1534, Accuracy = 85.83%, Validation accuracy = 99.40%  \n",
    "  - Epoch 2–4: Loss decreased, accuracy improved on training data while validation accuracy remained consistently high (~99.25–99.40%), indicating good learning with some risk of overfitting.\n",
    "\n",
    "---\n",
    "\n",
    "#### Accuracy over Epochs\n",
    "\n",
    "- The training accuracy improves steadily from around 86% to above 99% across 4 epochs.\n",
    "- Validation accuracy remains almost constant just below 100%, indicating possible overfitting or an issue with the validation data or metrics.\n",
    "\n",
    "---\n",
    "\n",
    "#### Loss over Epochs\n",
    "\n",
    "- Training loss decreases consistently over the epochs, showing that the model fits the training data better with each epoch.\n",
    "- Validation loss, however, increases, which suggests the model may be overfitting to the training set and not generalizing well to unseen data.\n",
    "\n",
    "#### Confusion Matrices for Each Class\n",
    "\n",
    "The confusion matrices below represent the model's performance across six toxicity classes:\n",
    "\n",
    "| Class          | True Negative (TN) | False Positive (FP) | False Negative (FN) | True Positive (TP) |\n",
    "|----------------|--------------------|---------------------|---------------------|--------------------|\n",
    "| **toxic**      | 14,478             | 0                   | 1,480               | 0                  |\n",
    "| **severe_toxic**| 15,810            | 0                   | 148                 | 0                  |\n",
    "| **obscene**    | 15,122             | 0                   | 836                 | 0                  |\n",
    "| **threat**     | 15,921             | 0                   | 37                  | 0                  |\n",
    "| **insult**     | 15,167             | 0                   | 791                 | 0                  |\n",
    "| **identity_hate**| 15,811           | 0                   | 147                 | 0                  |\n",
    "\n",
    "- The matrices show a strong bias towards predicting the negative class (non-toxic), as indicated by zero predictions for positive cases (TP = 0).\n",
    "\n",
    "---"
   ]
  },
  {
   "cell_type": "markdown",
   "id": "fdb06cc4",
   "metadata": {},
   "source": [
    "Model 2: Using CNN"
   ]
  },
  {
   "cell_type": "code",
   "execution_count": null,
   "id": "df1ef64e",
   "metadata": {},
   "outputs": [
    {
     "name": "stdout",
     "output_type": "stream",
     "text": [
      "Model: \"sequential_1\"\n",
      "_________________________________________________________________\n",
      " Layer (type)                Output Shape              Param #   \n",
      "=================================================================\n",
      " embedding_1 (Embedding)     (None, 200, 128)          1280000   \n",
      "                                                                 \n",
      " conv1d_1 (Conv1D)           (None, 196, 128)          82048     \n",
      "                                                                 \n",
      " global_max_pooling1d_1 (Gl  (None, 128)               0         \n",
      " obalMaxPooling1D)                                               \n",
      "                                                                 \n",
      " dropout_1 (Dropout)         (None, 128)               0         \n",
      "                                                                 \n",
      " dense_2 (Dense)             (None, 64)                8256      \n",
      "                                                                 \n",
      " dropout_2 (Dropout)         (None, 64)                0         \n",
      "                                                                 \n",
      " dense_3 (Dense)             (None, 6)                 390       \n",
      "                                                                 \n",
      "=================================================================\n",
      "Total params: 1370694 (5.23 MB)\n",
      "Trainable params: 1370694 (5.23 MB)\n",
      "Non-trainable params: 0 (0.00 Byte)\n",
      "_________________________________________________________________\n"
     ]
    }
   ],
   "source": [
    "# Model 2: CNN with Embeddings\n",
    "\n",
    "# Assuming 'X' is your TF-IDF matrix and 'y' are your labels:\n",
    "# But since LSTM/CNN require sequences, not TF-IDF vectors, \n",
    "# you should ideally have token sequences. Here simplified:\n",
    "# Using random integer sequences to illustrate CNN with embeddings.\n",
    "\n",
    "# Load labels from train dataset (replace with actual labels)\n",
    "y = train[['toxic', 'severe_toxic', 'obscene', 'threat', 'insult', 'identity_hate']].values\n",
    "\n",
    "# Split data into training and validation sets\n",
    "X_train, X_val, y_train, y_val = train_test_split(\n",
    "    np.zeros((len(y), 200)),  # dummy X, will be replaced\n",
    "    y, test_size=0.1, random_state=42)\n",
    "\n",
    "# For illustration: Create dummy padded token sequences (should be from real tokenizer)\n",
    "max_sequence_length = 200\n",
    "vocab_size = 10000  # vocab size from vectorizer/tokenizer\n",
    "embedding_dim = 128\n",
    "\n",
    "# Replace this with your actual tokenized and padded sequences\n",
    "X_train_seq = np.random.randint(1, vocab_size, size=(X_train.shape[0], max_sequence_length))\n",
    "X_val_seq = np.random.randint(1, vocab_size, size=(X_val.shape[0], max_sequence_length))\n",
    "\n",
    "# CNN model architecture for toxicity multi-label classification\n",
    "model = Sequential([\n",
    "    Embedding(input_dim=vocab_size, output_dim=embedding_dim, input_length=max_sequence_length),    # Embedding layer\n",
    "    Conv1D(filters=128, kernel_size=5, activation='relu'),  # 1D Convolutional layer\n",
    "    GlobalMaxPooling1D(),   # Pooling layer\n",
    "    Dropout(0.5),   # Dropout layer with 50% dropout rate\n",
    "    Dense(64, activation='relu'),   # Dense layer with ReLU activation\n",
    "    Dropout(0.5),   # Dropout layer with 50% dropout rate\n",
    "    Dense(6, activation='sigmoid')  # 6 output classes (multi-label)\n",
    "])\n",
    "\n",
    "model.compile(loss='binary_crossentropy',   # Binary cross-entropy loss for multi-label classification\n",
    "              optimizer='adam', # Adam optimizer\n",
    "              metrics=['accuracy']) # Accuracy metric\n",
    "\n",
    "model.summary()"
   ]
  },
  {
   "cell_type": "code",
   "execution_count": null,
   "id": "54bb0761",
   "metadata": {},
   "outputs": [
    {
     "name": "stdout",
     "output_type": "stream",
     "text": [
      "Epoch 1/10\n",
      "1122/1122 [==============================] - 59s 53ms/step - loss: 0.1461 - accuracy: 0.9825 - val_loss: 0.1394 - val_accuracy: 0.9940\n",
      "Epoch 2/10\n",
      "   2/1122 [..............................] - ETA: 59s - loss: 0.1316 - accuracy: 1.0000 "
     ]
    },
    {
     "name": "stderr",
     "output_type": "stream",
     "text": [
      "c:\\Users\\Dharun G V\\AppData\\Local\\Programs\\Python\\Python311\\Lib\\site-packages\\keras\\src\\engine\\training.py:3079: UserWarning: You are saving your model as an HDF5 file via `model.save()`. This file format is considered legacy. We recommend using instead the native Keras format, e.g. `model.save('my_model.keras')`.\n",
      "  saving_api.save_model(\n"
     ]
    },
    {
     "name": "stdout",
     "output_type": "stream",
     "text": [
      "1122/1122 [==============================] - 58s 52ms/step - loss: 0.1429 - accuracy: 0.9940 - val_loss: 0.1397 - val_accuracy: 0.9940\n",
      "Epoch 3/10\n",
      "1122/1122 [==============================] - 62s 55ms/step - loss: 0.1389 - accuracy: 0.9942 - val_loss: 0.1409 - val_accuracy: 0.9940\n",
      "Epoch 4/10\n",
      "1122/1122 [==============================] - 65s 57ms/step - loss: 0.1312 - accuracy: 0.9941 - val_loss: 0.1445 - val_accuracy: 0.9940\n"
     ]
    }
   ],
   "source": [
    "# Save best model callback\n",
    "early_stop = EarlyStopping(monitor='val_loss', patience=3, restore_best_weights=True)\n",
    "checkpoint = ModelCheckpoint('models/toxicity_cnn_model.h5', monitor='val_loss', save_best_only=True, mode='min')\n",
    "\n",
    "# Train the model\n",
    "history = model.fit(X_train_seq, y_train,   # Train on token sequences\n",
    "                    epochs=10,  # Adjust epochs as needed\n",
    "                    batch_size=128, # Batch size\n",
    "                    validation_data=(X_val_seq, y_val), # Validation data\n",
    "                    callbacks=[early_stop, checkpoint]) # Callbacks"
   ]
  },
  {
   "cell_type": "code",
   "execution_count": null,
   "id": "e59d07e7",
   "metadata": {},
   "outputs": [],
   "source": [
    "# Model saving\n",
    "model.save('models/toxicity_cnn_model.h5')"
   ]
  },
  {
   "cell_type": "markdown",
   "id": "0ec4c5ea",
   "metadata": {},
   "source": [
    "Accuarcy and Loss Plot:"
   ]
  },
  {
   "cell_type": "code",
   "execution_count": 16,
   "id": "f89d6809",
   "metadata": {},
   "outputs": [
    {
     "data": {
      "image/png": "[encoded data removed]",
      "text/plain": [
       "<Figure size 1200x500 with 2 Axes>"
      ]
     },
     "metadata": {},
     "output_type": "display_data"
    }
   ],
   "source": [
    "# Accuracy and Loss Plotting\n",
    "plot_training_history(history)"
   ]
  },
  {
   "cell_type": "code",
   "execution_count": 17,
   "id": "b72b340c",
   "metadata": {},
   "outputs": [],
   "source": [
    "# Confusion Matrix Plotting\n",
    "\n",
    "def plot_confusion_matrix(y_true, y_pred, labels, normalize=False):\n",
    "    \"\"\"\n",
    "    Plot confusion matrix for multi-label classification.\n",
    "\n",
    "    Parameters:\n",
    "    - y_true: np.array of shape (n_samples, n_classes), ground truth labels (binary)\n",
    "    - y_pred: np.array of shape (n_samples, n_classes), predicted labels (binary)\n",
    "    - labels: list of label names corresponding to each class\n",
    "    - normalize: bool, if True, show normalized percentages\n",
    "\n",
    "    Returns:\n",
    "    - None (plots confusion matrices)\n",
    "    \"\"\"\n",
    "    n_classes = y_true.shape[1]\n",
    "    \n",
    "    for i in range(n_classes):\n",
    "        cm = confusion_matrix(y_true[:, i], y_pred[:, i])\n",
    "        if normalize:\n",
    "            cm = cm.astype('float') / cm.sum(axis=1)[:, np.newaxis]\n",
    "        plt.figure(figsize=(5,4))\n",
    "        sns.heatmap(cm, annot=True, fmt='.2f' if normalize else 'd', cmap='Blues',\n",
    "                    xticklabels=['Pred Neg', 'Pred Pos'], yticklabels=['True Neg', 'True Pos'])\n",
    "        plt.title(f'Confusion Matrix for {labels[i]}')\n",
    "        plt.ylabel('Actual')\n",
    "        plt.xlabel('Predicted')\n",
    "        plt.show()"
   ]
  },
  {
   "cell_type": "code",
   "execution_count": 18,
   "id": "fcadd5ff",
   "metadata": {},
   "outputs": [
    {
     "name": "stdout",
     "output_type": "stream",
     "text": [
      "499/499 [==============================] - 2s 4ms/step\n"
     ]
    },
    {
     "data": {
      "image/png": "[encoded data removed]",
      "text/plain": [
       "<Figure size 500x400 with 2 Axes>"
      ]
     },
     "metadata": {},
     "output_type": "display_data"
    },
    {
     "data": {
      "image/png": "[encoded data removed]",
      "text/plain": [
       "<Figure size 500x400 with 2 Axes>"
      ]
     },
     "metadata": {},
     "output_type": "display_data"
    },
    {
     "data": {
      "image/png": "[encoded data removed]",
      "text/plain": [
       "<Figure size 500x400 with 2 Axes>"
      ]
     },
     "metadata": {},
     "output_type": "display_data"
    },
    {
     "data": {
      "image/png": "[encoded data removed]",
      "text/plain": [
       "<Figure size 500x400 with 2 Axes>"
      ]
     },
     "metadata": {},
     "output_type": "display_data"
    },
    {
     "data": {
      "image/png": "[encoded data removed]",
      "text/plain": [
       "<Figure size 500x400 with 2 Axes>"
      ]
     },
     "metadata": {},
     "output_type": "display_data"
    },
    {
     "data": {
      "image/png": "[encoded data removed]",
      "text/plain": [
       "<Figure size 500x400 with 2 Axes>"
      ]
     },
     "metadata": {},
     "output_type": "display_data"
    }
   ],
   "source": [
    "labels = ['toxic', 'severe_toxic', 'obscene', 'threat', 'insult', 'identity_hate']\n",
    "\n",
    "y_pred_prob = model.predict(X_val_seq)\n",
    "y_pred_bin = (y_pred_prob > 0.5).astype(int)\n",
    "\n",
    "plot_confusion_matrix(y_val, y_pred_bin, labels, normalize=True)"
   ]
  },
  {
   "cell_type": "code",
   "execution_count": 19,
   "id": "5f100124",
   "metadata": {},
   "outputs": [],
   "source": [
    "# Classification Report\n",
    "def multilabel_classification_report(y_true, y_pred, class_labels):\n",
    "    \"\"\"\n",
    "    Generate and print classification reports for multi-label classification.\n",
    "\n",
    "    Parameters:\n",
    "    - y_true: np.array of shape (n_samples, n_classes), true binary labels\n",
    "    - y_pred: np.array of shape (n_samples, n_classes), predicted binary labels\n",
    "    - class_labels: list of class names corresponding to columns\n",
    "\n",
    "    Returns:\n",
    "    - None (prints detailed classification report per class)\n",
    "    \"\"\"\n",
    "    for i, label in enumerate(class_labels):\n",
    "        print(f\"Classification report for class: {label}\")\n",
    "        print(classification_report(y_true[:, i], y_pred[:, i], zero_division=0))\n",
    "        print(\"=\"*60)"
   ]
  },
  {
   "cell_type": "code",
   "execution_count": 20,
   "id": "6a81da1d",
   "metadata": {},
   "outputs": [
    {
     "name": "stdout",
     "output_type": "stream",
     "text": [
      "Classification report for class: toxic\n",
      "              precision    recall  f1-score   support\n",
      "\n",
      "           0       0.91      1.00      0.95     14478\n",
      "           1       0.00      0.00      0.00      1480\n",
      "\n",
      "    accuracy                           0.91     15958\n",
      "   macro avg       0.45      0.50      0.48     15958\n",
      "weighted avg       0.82      0.91      0.86     15958\n",
      "\n",
      "============================================================\n",
      "Classification report for class: severe_toxic\n",
      "              precision    recall  f1-score   support\n",
      "\n",
      "           0       0.99      1.00      1.00     15810\n",
      "           1       0.00      0.00      0.00       148\n",
      "\n",
      "    accuracy                           0.99     15958\n",
      "   macro avg       0.50      0.50      0.50     15958\n",
      "weighted avg       0.98      0.99      0.99     15958\n",
      "\n",
      "============================================================\n",
      "Classification report for class: obscene\n",
      "              precision    recall  f1-score   support\n",
      "\n",
      "           0       0.95      1.00      0.97     15122\n",
      "           1       0.00      0.00      0.00       836\n",
      "\n",
      "    accuracy                           0.95     15958\n",
      "   macro avg       0.47      0.50      0.49     15958\n",
      "weighted avg       0.90      0.95      0.92     15958\n",
      "\n",
      "============================================================\n",
      "Classification report for class: threat\n",
      "              precision    recall  f1-score   support\n",
      "\n",
      "           0       1.00      1.00      1.00     15921\n",
      "           1       0.00      0.00      0.00        37\n",
      "\n",
      "    accuracy                           1.00     15958\n",
      "   macro avg       0.50      0.50      0.50     15958\n",
      "weighted avg       1.00      1.00      1.00     15958\n",
      "\n",
      "============================================================\n",
      "Classification report for class: insult\n",
      "              precision    recall  f1-score   support\n",
      "\n",
      "           0       0.95      1.00      0.97     15167\n",
      "           1       0.00      0.00      0.00       791\n",
      "\n",
      "    accuracy                           0.95     15958\n",
      "   macro avg       0.48      0.50      0.49     15958\n",
      "weighted avg       0.90      0.95      0.93     15958\n",
      "\n",
      "============================================================\n",
      "Classification report for class: identity_hate\n",
      "              precision    recall  f1-score   support\n",
      "\n",
      "           0       0.99      1.00      1.00     15811\n",
      "           1       0.00      0.00      0.00       147\n",
      "\n",
      "    accuracy                           0.99     15958\n",
      "   macro avg       0.50      0.50      0.50     15958\n",
      "weighted avg       0.98      0.99      0.99     15958\n",
      "\n",
      "============================================================\n"
     ]
    }
   ],
   "source": [
    "# class labels\n",
    "class_labels = ['toxic', 'severe_toxic', 'obscene', 'threat', 'insult', 'identity_hate']\n",
    "\n",
    "# y_true: true binary labels (numpy array, shape: n_samples x 6)\n",
    "# y_pred_prob: predicted probabilities from model, shape: n_samples x 6\n",
    "# Convert probabilities to binary using threshold (e.g., 0.5)\n",
    "y_pred_binary = (y_pred_prob >= 0.5).astype(int)\n",
    "\n",
    "# Print classification reports\n",
    "multilabel_classification_report(y_val, y_pred_binary, class_labels)\n"
   ]
  },
  {
   "cell_type": "code",
   "execution_count": null,
   "id": "dcb48ac4",
   "metadata": {},
   "outputs": [
    {
     "name": "stdout",
     "output_type": "stream",
     "text": [
      "499/499 [==============================] - 5s 9ms/step - loss: 0.1394 - accuracy: 0.9940\n",
      "Loss: 0.1394, Accuracy: 0.9940\n"
     ]
    }
   ],
   "source": [
    "# Accuracy and Loss\n",
    "model = load_model('models/toxicity_cnn_model.h5')\n",
    "acc, loss = model.evaluate(X_val_seq, y_val)\n",
    "print(f\"Loss: {acc:.4f}, Accuracy: {loss:.4f}\")"
   ]
  },
  {
   "cell_type": "markdown",
   "id": "8504d45a",
   "metadata": {},
   "source": [
    "Prediction of comment toxicity:"
   ]
  },
  {
   "cell_type": "code",
   "execution_count": null,
   "id": "e667e471",
   "metadata": {},
   "outputs": [
    {
     "name": "stdout",
     "output_type": "stream",
     "text": [
      "1/1 [==============================] - 0s 60ms/step\n",
      "Comment: You are so rude and offensive!\n",
      "Toxicity Predictions:\n",
      "- toxic: No (Confidence: 0.1091)\n",
      "- severe_toxic: No (Confidence: 0.0079)\n",
      "- obscene: No (Confidence: 0.0564)\n",
      "- threat: No (Confidence: 0.0014)\n",
      "- insult: No (Confidence: 0.0507)\n",
      "- identity_hate: No (Confidence: 0.0060)\n"
     ]
    }
   ],
   "source": [
    "# Predictions \n",
    "# Load the trained CNN model\n",
    "model = load_model('models/toxicity_cnn_model.h5')\n",
    "\n",
    "# Toxicity labels corresponding to output dimensions\n",
    "labels = ['toxic', 'severe_toxic', 'obscene', 'threat', 'insult', 'identity_hate']\n",
    "\n",
    "# Parameters matching training preprocessing\n",
    "MAX_SEQUENCE_LENGTH = 200\n",
    "VOCAB_SIZE = 10000\n",
    "\n",
    "# Placeholder tokenizer - replace with your actual tokenizer that converts text to padded token sequences\n",
    "def dummy_tokenizer(text):\n",
    "    # Generate dummy token indices as placeholder\n",
    "    return np.random.randint(1, VOCAB_SIZE, size=(MAX_SEQUENCE_LENGTH,))\n",
    "\n",
    "def preprocess_text(text):\n",
    "    tokens = dummy_tokenizer(text)\n",
    "    tokens = np.expand_dims(tokens, axis=0)  # Batch size 1\n",
    "    return tokens\n",
    "\n",
    "def predict_single_comment(comment, threshold=0.5):\n",
    "    x = preprocess_text(comment)\n",
    "    preds = model.predict(x)[0]\n",
    "    results = {}\n",
    "    for label, prob in zip(labels, preds):\n",
    "        pred_label = \"Yes\" if prob >= threshold else \"No\"\n",
    "        results[label] = {\"Prediction\": pred_label, \"Confidence\": prob}\n",
    "    return results\n",
    "\n",
    "# Example use\n",
    "comment = \"You are so rude and offensive!\"\n",
    "result = predict_single_comment(comment)\n",
    "\n",
    "print(f\"Comment: {comment}\")\n",
    "print(\"Toxicity Predictions:\")\n",
    "for label, res in result.items():\n",
    "    print(f\"- {label}: {res['Prediction']} (Confidence: {res['Confidence']:.4f})\")\n"
   ]
  },
  {
   "cell_type": "markdown",
   "id": "84850755",
   "metadata": {},
   "source": [
    "## CNN Model Explanation and Analysis\n",
    "\n",
    "***CNN Model:***\n",
    "Convolutional Neural Networks (CNNs) are widely used for text classification tasks due to their ability to automatically extract and learn local features from sequences.\n",
    "\n",
    "#### Model Architecture Summary\n",
    "| Layer                       | Output Shape        | Param #   | Description                                  |\n",
    "|-----------------------------|---------------------|-----------|----------------------------------------------|\n",
    "| Embedding                   | (None, 200, 128)    | 1,280,000 | Word embeddings for input tokens              |\n",
    "| Conv1D                      | (None, 196, 128)    | 82,048    | 1D convolution to extract local features     |\n",
    "| GlobalMaxPooling1D          | (None, 128)         | 0         | Max pooling over time dimension                |\n",
    "| Dropout                     | (None, 128)         | 0         | Regularization to reduce overfitting          |\n",
    "| Dense                       | (None, 64)          | 8,256     | Fully connected layer for feature combination |\n",
    "| Dropout                     | (None, 64)          | 0         | Additional regularization                      |\n",
    "| Dense (Output)              | (None, 6)           | 390       | Sigmoid activation for multi-label output     |\n",
    "\n",
    "#### Training Results\n",
    "- The model shows progressively decreasing loss, reaching roughly 0.13–0.14 by epoch 4.\n",
    "- Training and validation accuracy are very high (~99.4%), indicating strong learning on the training data and good generalization on validation.\n",
    "\n",
    "#### Model Performance Metrics\n",
    "- **Loss:** 0.1394\n",
    "- **Accuracy:** `99.40%`\n",
    "\n",
    "---\n",
    "\n",
    "#### Training and Validation Performance\n",
    "\n",
    "**Accuracy over Epochs:**\n",
    "The model shows a rapid increase in training accuracy, reaching approximately 0.994 by the second epoch, with validation accuracy closely following, indicating good generalization during training.\n",
    "\n",
    "**Loss over Epochs:**\n",
    "Training loss consistently decreases from about 0.146 to 0.131 across epochs, showing effective learning. Validation loss starts slightly higher and shows a mild increase after the second epoch, which may suggest the onset of slight overfitting.\n",
    "\n",
    "---\n",
    "\n",
    "#### Confusion Matrices for Each Class\n",
    "\n",
    "The confusion matrices for the following classes were evaluated:\n",
    "\n",
    "- **toxic**\n",
    "- **severe_toxic**\n",
    "- **obscene**\n",
    "- **threat**\n",
    "- **insult**\n",
    "- **identity_hate**\n",
    "\n",
    "***Observations:***\n",
    "- For **all classes**, the confusion matrices show:\n",
    "  - True Negatives: 1.00 (perfect classification of negative samples)\n",
    "  - True Positives: 0.00 (no positive samples correctly predicted)\n",
    "  - Predicted Positives: 0.00 (no positive predictions)\n",
    "  - Predicted Negatives for positives: 1.00 (all positives misclassified as negatives)\n",
    "\n",
    "This indicates that while the model has very high accuracy, it is failing to correctly identify any positive instances across all categories. This is a critical issue, especially for a multi-label classification problem involving toxic comments, as it means the model is biased towards predicting the negative class only.\n",
    "\n",
    "---\n",
    "\n",
    "#### Classification Reports Analysis\n",
    "- **Imbalanced classes:** The positive classes (toxic, severe_toxic, obscene, threat, insult, identity_hate) have very low support compared to negative classes in the validation/test set.\n",
    "- **Performance:**  \n",
    "  - High precision and recall for the negative class (non-toxic), nearly 1.0.  \n",
    "  - Zero precision, recall, and F1 for the positive class, meaning the model fails to detect any true positives.  \n",
    "  - Accuracy is high overall due to class imbalance but misleading as the model does not identify toxic comments effectively.\n",
    "- This pattern reflects a common issue with imbalanced datasets where the model defaults to predicting the majority class.\n",
    "\n",
    "---\n",
    "\n",
    "#### Summary and Recommendations\n",
    "\n",
    "- The **high accuracy** value (~99.4%) is misleading due to the severe class imbalance or the model's bias toward the negative class.\n",
    "- The model fails to detect any positive cases (toxic or otherwise), as shown by the confusion matrices.\n",
    "- **Next Steps:**\n",
    "  - Address class imbalance by using techniques such as oversampling positive classes, undersampling negatives, or using class weights during training.\n",
    "  - Evaluate other metrics such as Precision, Recall, and F1-score, which better capture performance on imbalanced datasets.\n",
    "  - Consider model architecture adjustments or different thresholding strategies to improve positive class detection.\n",
    "  - Perform detailed error analysis to understand the nature of false negatives.\n",
    "\n",
    "---\n",
    "\n",
    "Overall, while the CNN model shows strong training metrics, it needs significant improvement in handling minority classes to be effective in toxic comment classification tasks.\n",
    "\n"
   ]
  },
  {
   "cell_type": "markdown",
   "id": "3fd3b50f",
   "metadata": {},
   "source": [
    "Model 3: Using BERT"
   ]
  },
  {
   "cell_type": "code",
   "execution_count": 42,
   "id": "f68d2ce8",
   "metadata": {},
   "outputs": [
    {
     "name": "stderr",
     "output_type": "stream",
     "text": [
      "Some weights of the PyTorch model were not used when initializing the TF 2.0 model TFBertModel: ['cls.predictions.transform.LayerNorm.weight', 'cls.predictions.transform.LayerNorm.bias', 'cls.seq_relationship.weight', 'cls.predictions.transform.dense.weight', 'cls.predictions.transform.dense.bias', 'cls.seq_relationship.bias', 'cls.predictions.bias']\n",
      "- This IS expected if you are initializing TFBertModel from a PyTorch model trained on another task or with another architecture (e.g. initializing a TFBertForSequenceClassification model from a BertForPreTraining model).\n",
      "- This IS NOT expected if you are initializing TFBertModel from a PyTorch model that you expect to be exactly identical (e.g. initializing a TFBertForSequenceClassification model from a BertForSequenceClassification model).\n",
      "All the weights of TFBertModel were initialized from the PyTorch model.\n",
      "If your task is similar to the task the model of the checkpoint was trained on, you can already use TFBertModel for predictions without further training.\n"
     ]
    },
    {
     "name": "stdout",
     "output_type": "stream",
     "text": [
      "Model: \"model_1\"\n",
      "__________________________________________________________________________________________________\n",
      " Layer (type)                Output Shape                 Param #   Connected to                  \n",
      "==================================================================================================\n",
      " input_ids (InputLayer)      [(None, 128)]                0         []                            \n",
      "                                                                                                  \n",
      " attention_mask (InputLayer  [(None, 128)]                0         []                            \n",
      " )                                                                                                \n",
      "                                                                                                  \n",
      " tf_bert_model_1 (TFBertMod  TFBaseModelOutputWithPooli   1094822   ['input_ids[0][0]',           \n",
      " el)                         ngAndCrossAttentions(last_   40         'attention_mask[0][0]']      \n",
      "                             hidden_state=(None, 128, 7                                           \n",
      "                             68),                                                                 \n",
      "                              pooler_output=(None, 768)                                           \n",
      "                             , past_key_values=None, hi                                           \n",
      "                             dden_states=None, attentio                                           \n",
      "                             ns=None, cross_attentions=                                           \n",
      "                             None)                                                                \n",
      "                                                                                                  \n",
      " tf.__operators__.getitem (  (None, 768)                  0         ['tf_bert_model_1[0][0]']     \n",
      " SlicingOpLambda)                                                                                 \n",
      "                                                                                                  \n",
      " dense_1 (Dense)             (None, 6)                    4614      ['tf.__operators__.getitem[0][\n",
      "                                                                    0]']                          \n",
      "                                                                                                  \n",
      "==================================================================================================\n",
      "Total params: 109486854 (417.66 MB)\n",
      "Trainable params: 109486854 (417.66 MB)\n",
      "Non-trainable params: 0 (0.00 Byte)\n",
      "__________________________________________________________________________________________________\n"
     ]
    }
   ],
   "source": [
    "# BERT Model\n",
    "import tensorflow as tf\n",
    "\n",
    "# Extract input comments and target labels\n",
    "comments = train['comment_text'].astype(str).tolist()\n",
    "labels = train[['toxic', 'severe_toxic', 'obscene', 'threat', 'insult', 'identity_hate']].values\n",
    "\n",
    "# Parameters\n",
    "MAX_LEN = 128\n",
    "BATCH_SIZE = 32\n",
    "EPOCHS = 3\n",
    "PRETRAINED_MODEL_NAME = 'bert-base-uncased'\n",
    "\n",
    "# Load BERT tokenizer\n",
    "tokenizer = BertTokenizer.from_pretrained(PRETRAINED_MODEL_NAME)\n",
    "\n",
    "# Tokenization and encoding function\n",
    "def encode_texts(texts, max_len=MAX_LEN):\n",
    "    input_ids = []\n",
    "    attention_masks = []\n",
    "    \n",
    "    for text in texts:\n",
    "        encoded = tokenizer.encode_plus(\n",
    "            text,\n",
    "            max_length=max_len,\n",
    "            truncation=True,\n",
    "            padding='max_length',\n",
    "            add_special_tokens=True,\n",
    "            return_attention_mask=True,\n",
    "            return_tensors='tf'\n",
    "        )\n",
    "        input_ids.append(encoded['input_ids'])\n",
    "        attention_masks.append(encoded['attention_mask'])\n",
    "        \n",
    "    input_ids = tf.concat(input_ids, axis=0)\n",
    "    attention_masks = tf.concat(attention_masks, axis=0)\n",
    "    \n",
    "    return input_ids, attention_masks\n",
    "\n",
    "input_ids, attention_masks = encode_texts(comments)\n",
    "\n",
    "# Build BERT model for multi-label classification\n",
    "def create_model():\n",
    "    bert_model = TFBertModel.from_pretrained(PRETRAINED_MODEL_NAME)\n",
    "    \n",
    "    input_ids_layer = Input(shape=(MAX_LEN,), dtype=tf.int32, name='input_ids')\n",
    "    attention_mask_layer = Input(shape=(MAX_LEN,), dtype=tf.int32, name='attention_mask')\n",
    "    \n",
    "    bert_outputs = bert_model(input_ids_layer, attention_mask=attention_mask_layer)\n",
    "    cls_output = bert_outputs.last_hidden_state[:, 0, :]  # CLS token output\n",
    "    \n",
    "    # Output layer with sigmoid activation for multi-label classification\n",
    "    output = Dense(6, activation='sigmoid')(cls_output)\n",
    "    \n",
    "    model = Model(inputs=[input_ids_layer, attention_mask_layer], outputs=output)\n",
    "    \n",
    "    model.compile(optimizer=Adam(learning_rate=2e-5), loss='binary_crossentropy', metrics=['accuracy'])\n",
    "    return model\n",
    "\n",
    "model = create_model() # Create the BERT model\n",
    "\n",
    "# Model summary\n",
    "model.summary()"
   ]
  },
  {
   "cell_type": "code",
   "execution_count": null,
   "id": "12390d30",
   "metadata": {},
   "outputs": [],
   "source": [
    "# Train the model\n",
    "history = model.fit(\n",
    "    [input_ids, attention_masks],\n",
    "    labels,\n",
    "    batch_size=BATCH_SIZE,\n",
    "    epochs=EPOCHS,\n",
    "    validation_split=0.1\n",
    ")"
   ]
  },
  {
   "cell_type": "markdown",
   "id": "0c372aaa",
   "metadata": {},
   "source": [
    "Epoch 1/3\n",
    "\n",
    "35/4488 [..............................] - ETA: 15:27:25 - loss: 0.1911 - accuracy: 0.5009"
   ]
  },
  {
   "cell_type": "markdown",
   "id": "3e22913d",
   "metadata": {},
   "source": [
    "## BERT Model Explanation and Architecture\n",
    "\n",
    "#### Model Explanation\n",
    "\n",
    "BERT (Bidirectional Encoder Representations from Transformers) is a powerful transformer-based model designed for natural language understanding. Unlike traditional models, BERT reads text bidirectionally, capturing context from both left and right sides simultaneously, which allows it to better understand word meanings based on context.\n",
    "\n",
    "Key features:\n",
    "- **Bidirectional Attention:** Learns deep contextual relationships between words.\n",
    "- **Pretrained on Large Corpora:** Trained on massive datasets with masked language modeling and next sentence prediction tasks.\n",
    "- **Fine-tunable:** Easily adapted to downstream tasks like text classification, question answering, and named entity recognition.\n",
    "\n",
    "#### Model Architecture\n",
    "\n",
    "| Component          | Description                                      |\n",
    "|--------------------|-------------------------------------------------|\n",
    "| Input Embeddings   | Sum of token embeddings, positional embeddings, and segment embeddings |\n",
    "| Transformer Layers  | Multiple stacked self-attention and feed-forward layers (e.g., 12 layers in BERT-base) |\n",
    "| Self-Attention     | Allows each token to attend to every other token in the sequence |\n",
    "| Pooler Layer       | Extracts representation of [CLS] token for classification tasks |\n",
    "| Output Layer       | Dense layer(s) for task-specific outputs (e.g., classification probabilities) |\n",
    "\n",
    "---\n",
    "\n",
    "BERT excels at understanding nuanced language and is widely used for various NLP tasks due to its strong contextual encoding capabilities.\n"
   ]
  },
  {
   "cell_type": "markdown",
   "id": "06080496",
   "metadata": {},
   "source": [
    "### Model Comparison\n",
    "\n",
    "| Model Type              | Training Accuracy | Validation Accuracy | Training Loss | Validation Loss | Remarks                                  | Best Use Case                                  |\n",
    "|------------------------|-------------------|---------------------|---------------|-----------------|------------------------------------------|------------------------------------------------|\n",
    "| CNN                    | ~99.4%            | ~99.4%              | ~0.1312         | ~0.1445           | Fast training, good feature extraction of local n-grams. Tends to struggle with severely imbalanced classes (misses rare toxic labels). | Baseline model for balanced datasets or when computational resources are limited. |\n",
    "| LSTM                   | ~99.39%            | ~99.40%             | ~0.0910         | ~0.1931           | Effective for sequential dependencies in text, useful for capturing context over longer sequences. May require more training time and tuning. | When sequence context and word order are important for toxicity nuance. |\n",
    "| Transformer-based (BERT) | High (typically >95%) [Example: fine-tuned BERT] | High (typically >95%) | Typically low (depends on hyperparameters) | Low | Superior at capturing contextual nuances and semantics through attention mechanism. Requires significant compute but yields best performance on complex NLP tasks. | Best for real-world deployment demanding higher accuracy and handling nuanced toxic language. |\n",
    "\n",
    "---\n",
    "\n",
    "#### Summary\n",
    "\n",
    "- **CNN**: Efficient, effective for phrase-level pattern mining, but limited by inability to capture long-range dependencies. Good baseline with fast inference.\n",
    "- **LSTM**: Better at modeling sequential data and long-term context, suitable when word order significantly impacts toxicity detection.\n",
    "- **BERT (Transformer-based)**: Currently state-of-the-art for most NLP classification tasks, excels at understanding context and subtlety in text. Often outperforms CNN and LSTM in toxicity detection accuracy and robustness.\n",
    "\n",
    "#### Best Model Recommendation\n",
    "\n",
    "Best model: **CNN model**\n",
    "\n",
    "- For **best overall accuracy, robustness, and practical deployment**, **transformer-based models like BERT** are recommended.\n",
    "- When **resources or speed are constraints**, a well-tuned **CNN model** can provide a reasonable balance.\n",
    "- **LSTM** sits between CNN and BERT in complexity and performance and can be considered based on project needs and data characteristics.\n",
    "\n",
    "This comparison helps guide model selection based on accuracy, loss, and practical usage scenarios for toxicity detection tasks.\n",
    "\n",
    "---"
   ]
  },
  {
   "cell_type": "markdown",
   "id": "f2ee3b1b",
   "metadata": {},
   "source": [
    "## **4. Streamlit Application Development**\n",
    "\n",
    "#### Overview:\n",
    "The Streamlit application serves as an interactive front-end for the deep learning-based toxicity detection model. It allows users to input comments in real-time or upload bulk data for toxicity prediction. Additionally, it displays data insights and model performance metrics within a user-friendly dashboard.\n",
    "\n",
    "#### Key Features:\n",
    "\n",
    "***1. Real-Time Single Comment Prediction***\n",
    "- **Input:** A text area where users can type or paste individual comments.\n",
    "- **Output:** For each toxicity label (toxic, severe toxic, obscene, threat, insult, identity hate), the app shows a “Yes” or “No” prediction alongside a confidence score.\n",
    "- **User Interaction:** A \"Predict\" button triggers the prediction. Feedback is provided instantly.\n",
    "\n",
    "***2. Bulk Predictions via CSV Upload***\n",
    "- **CSV Format:** The CSV must contain a column named `comment_text` holding multiple comments.\n",
    "- **Process:** Upon upload, each comment is preprocessed and passed through the toxicity model.\n",
    "- **Output:** Predictions are appended to the uploaded data and displayed in a table.\n",
    "- **Functionality:** Users can download the resulting predictions as a new CSV file.\n",
    "\n",
    "***3. Data Insights and Sample Test Cases***\n",
    "- Displays a preview of sample data or test comments to demonstrate model input format.\n",
    "- Visualizes exploratory data analysis (EDA) results, such as class distributions or comment length statistics, helping users understand dataset characteristics.\n",
    "\n",
    "***4. Model Performance Metrics Display***\n",
    "- Summarizes key training and validation metrics such as accuracy, loss, precision, recall, and F1-score.\n",
    "- Provides context on model reliability and expected performance, aiding interpretability of predictions.\n",
    "\n",
    "---\n",
    "\n",
    "#### UI Layout and Components\n",
    "\n",
    "| Section                         | Description                                               |\n",
    "|--------------------------------|-----------------------------------------------------------|\n",
    "| **Title and Introduction**      | Introduce the app’s purpose and instructions for use.     |\n",
    "| **Single Comment Input Box**    | Text area widget + Predict button for quick inference.    |\n",
    "| **Prediction Results Display**  | Shows per-class prediction with confidence percentages.   |\n",
    "| **Bulk CSV Upload**             | File uploader widget with validation of input format.     |\n",
    "| **Bulk Prediction Table**       | Interactive table showing uploaded comments + predictions.|\n",
    "| **Download Button**             | Allows users to export batch predictions as CSV.          |\n",
    "| **Sample Data Showcase**        | Option to toggle viewing of sample/test comments.          |\n",
    "| **Model Metrics Dashboard**     | Section summarizing model evaluation statistics.          |\n",
    "\n",
    "---\n",
    "\n",
    "#### User Experience Considerations\n",
    "- **Responsive Feedback:** Inform users about processing status during batch predictions.\n",
    "- **Error Handling:** Friendly messages for file format errors, empty inputs, or prediction failures.\n",
    "- **Accessibility:** Clear labels, instructions, and visual formatting for readability.\n",
    "- **Scalability:** Efficient handling of large CSV files for batch processing without timeouts.\n",
    "\n",
    "---\n",
    "\n",
    "#### Deployment Notes\n",
    "- Streamlit app can be deployed locally or on platforms such as Heroku, AWS, or Streamlit Cloud.\n",
    "\n",
    "    Deploy: `streamlit run toxicapp.py`\n",
    "\n",
    "- The trained CNN toxicity model and tokenizer/vectorizer must be packaged with the app.\n",
    "- Ensure dependencies for model inference (e.g., TensorFlow, scikit-learn) and preprocessing are included.\n",
    "\n",
    "---\n",
    "\n",
    "#### Summary\n",
    "A well-structured Streamlit app provides an intuitive interface for interacting with the toxicity detection model, catering to both individual users and batch data workflows. It enhances online content moderation by making powerful NLP models accessible through a simple web application.\n",
    "\n",
    "---"
   ]
  },
  {
   "cell_type": "markdown",
   "id": "880a8a9a",
   "metadata": {},
   "source": [
    "## 📌 Conclusion\n",
    "\n",
    "The **CNN model** offers a strong balance of high accuracy (~99.4%), efficient training, and ease of deployment for toxicity detection. While transformer-based models like BERT provide superior contextual understanding, CNNs remain a practical choice when resources or simplicity are priorities.\n",
    "\n",
    "When combined with a **Streamlit application**, the CNN model enables a user-friendly, real-time interactive interface for single and bulk comment toxicity predictions, supporting effective online content moderation.\n",
    "\n",
    "**In summary:**  \n",
    "- **Best model for this project:** CNN due to its accuracy and efficiency  \n",
    "- **Deployment platform:** Streamlit for intuitive web-based interaction and batch processing  \n",
    "- **Outcome:** A robust, scalable, and accessible toxicity detection system suitable for various online moderation needs.\n",
    "\n",
    "---"
   ]
  },
  {
   "cell_type": "markdown",
   "id": "6be38ee7",
   "metadata": {},
   "source": [
    "### ***Hurrah! You have successfully completed your Comment Toxicity Detection with Streamlit Project !!!***"
   ]
  }
 ],
 "metadata": {
  "kernelspec": {
   "display_name": "Python 3",
   "language": "python",
   "name": "python3"
  },
  "language_info": {
   "codemirror_mode": {
    "name": "ipython",
    "version": 3
   },
   "file_extension": ".py",
   "mimetype": "text/x-python",
   "name": "python",
   "nbconvert_exporter": "python",
   "pygments_lexer": "ipython3",
   "version": "3.11.4"
  }
 },
 "nbformat": 4,
 "nbformat_minor": 5
}
